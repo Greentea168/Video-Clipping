{
  "nbformat": 4,
  "nbformat_minor": 0,
  "metadata": {
    "colab": {
      "name": "youtube-dl.ipynb",
      "provenance": [],
      "collapsed_sections": [
        "_ME7oNWbJFF-",
        "OluCRg9AD_Z1",
        "qZSOBY3ET-Lc",
        "vkhqGyVfr0GM",
        "cXyVKq1lBfHb",
        "VTrpKd2Qx8jF",
        "v1qY8ArZNpiT",
        "u8j6iUkG_Slw"
      ],
      "toc_visible": true,
      "mount_file_id": "1CXKZEA3QcF-UXpY8B2Ex6u883eSGbvYA",
      "authorship_tag": "ABX9TyNmCiLoUot4aadc/5p/4shZ",
      "include_colab_link": true
    },
    "kernelspec": {
      "display_name": "Python 3",
      "name": "python3"
    }
  },
  "cells": [
    {
      "cell_type": "markdown",
      "metadata": {
        "id": "view-in-github",
        "colab_type": "text"
      },
      "source": [
        "<a href=\"https://colab.research.google.com/github/greentea8610/Video-Clipping/blob/main/youtube_dl.ipynb\" target=\"_parent\"><img src=\"https://colab.research.google.com/assets/colab-badge.svg\" alt=\"Open In Colab\"/></a>"
      ]
    },
    {
      "cell_type": "markdown",
      "metadata": {
        "id": "4QghkuGeDC3i"
      },
      "source": [
        "sources: \n",
        "[clip_specific_time](https://stackoverflow.com/questions/57131049/is-it-possible-to-download-a-specific-part-of-a-file),\n",
        "[yt-dlc](https://github.com/blackjack4494/yt-dlc#installation)\n",
        "\n",
        "\n",
        "if you experience any issues, ping me on Discord @Greentea#8610"
      ]
    },
    {
      "cell_type": "markdown",
      "metadata": {
        "id": "_ME7oNWbJFF-"
      },
      "source": [
        "# Run\n",
        "You don't need to touch this. You can just click on the run button (play button)"
      ]
    },
    {
      "cell_type": "code",
      "metadata": {
        "colab": {
          "base_uri": "https://localhost:8080/"
        },
        "id": "xY85VUHEC8XY",
        "outputId": "4ddff0ef-b46e-4e8e-a1dc-2deae4d0b66e"
      },
      "source": [
        "# A prompt will come up asking you to continue and you can jsut press enter\n",
        "!pip install youtube_dl\n",
        "!apt install ffmpeg\n",
        "!pip install --upgrade youtube-dlc"
      ],
      "execution_count": null,
      "outputs": [
        {
          "output_type": "stream",
          "text": [
            "Collecting youtube_dl\n",
            "\u001b[?25l  Downloading https://files.pythonhosted.org/packages/2b/2d/b8780dfdc7d81095d19733db66e778c5e29b15cba0103274bc1606e3a582/youtube_dl-2020.12.26-py2.py3-none-any.whl (1.9MB)\n",
            "\u001b[K     |████████████████████████████████| 1.9MB 5.4MB/s \n",
            "\u001b[?25hInstalling collected packages: youtube-dl\n",
            "Successfully installed youtube-dl-2020.12.26\n",
            "Reading package lists... Done\n",
            "Building dependency tree       \n",
            "Reading state information... Done\n",
            "ffmpeg is already the newest version (7:3.4.8-0ubuntu0.2).\n",
            "0 upgraded, 0 newly installed, 0 to remove and 15 not upgraded.\n",
            "Collecting youtube-dlc\n",
            "\u001b[?25l  Downloading https://files.pythonhosted.org/packages/eb/7d/49932a06e4839c9cb9aad62af6f10225a2331ccc518c5407fc9f485a2526/youtube_dlc-2020.11.11.post3-py2.py3-none-any.whl (1.8MB)\n",
            "\u001b[K     |████████████████████████████████| 1.8MB 5.8MB/s \n",
            "\u001b[?25hInstalling collected packages: youtube-dlc\n",
            "Successfully installed youtube-dlc-2020.11.11.post3\n"
          ],
          "name": "stdout"
        }
      ]
    },
    {
      "cell_type": "code",
      "metadata": {
        "id": "v0LuyMusDAtX"
      },
      "source": [
        "import os, sys, datetime, shutil\n",
        "from google.colab import drive\n",
        "import re\n",
        "import youtube_dl, subprocess\n",
        "import pandas as pd\n",
        "import numpy as np\n",
        "from datetime import datetime, timedelta\n",
        "from tqdm import tqdm\n",
        "import warnings\n",
        "warnings.filterwarnings(\"ignore\")"
      ],
      "execution_count": null,
      "outputs": []
    },
    {
      "cell_type": "code",
      "metadata": {
        "id": "7rCieQ5NHNTW"
      },
      "source": [
        "def get_duration(FROM, TO):\n",
        "    TO = \"00:\"+TO if len(TO) == 5 else \"00:0\"+TO if len(TO) == 4 else \"0\"+TO if len(TO) == 7 else TO\n",
        "    FROM = \"00:\"+FROM if len(FROM) == 5 else \"00:0\"+FROM if len(FROM) == 4 else \"0\"+FROM if len(FROM) == 7 else FROM\n",
        "\n",
        "    duration = (pd.to_datetime(TO) - pd.to_datetime(FROM))\n",
        "    days, seconds = duration.days, duration.seconds\n",
        "    hours = \"0\"+str(days * 24 + seconds // 3600) if len(str(days * 24 + seconds // 3600)) == 1 else str(days * 24 + seconds // 3600)\n",
        "    minutes = \"0\"+str((seconds % 3600) // 60) if len(str((seconds % 3600) // 60)) == 1 else str((seconds % 3600) // 60)\n",
        "    seconds = \"0\"+str(seconds % 60) if len(str(seconds % 60)) == 1 else str(seconds % 60)\n",
        "    return hours+\":\"+minutes+\":\"+seconds"
      ],
      "execution_count": null,
      "outputs": []
    },
    {
      "cell_type": "code",
      "metadata": {
        "id": "HiLI0kyI4MJf"
      },
      "source": [
        "def clean_timestamp(timestamp_val, timestamp_type, add_pad, verbose=False):\n",
        "    if verbose == True:\n",
        "        print(timestamp_val)\n",
        "    timestamp_val = \"00:\"+timestamp_val if len(timestamp_val) == 5 else \"00:0\"+timestamp_val if len(timestamp_val) == 4 else \"0\"+timestamp_val if len(timestamp_val) == 7 else timestamp_val\n",
        "    \n",
        "    if timestamp_type == \"end_time\":\n",
        "        adjusted_timestamp = pd.to_datetime(timestamp_val) + timedelta(seconds=add_pad)\n",
        "    elif timestamp_type == \"start_time\":\n",
        "        if timestamp_val == \"00:00:00\":\n",
        "            adjusted_timestamp = pd.to_datetime(timestamp_val)\n",
        "        else:\n",
        "            adjusted_timestamp = pd.to_datetime(timestamp_val) - timedelta(seconds=add_pad)\n",
        "    adjusted_timestamp = (adjusted_timestamp - datetime.today().replace(hour=0, minute=0, second=0, microsecond=0))\n",
        "\n",
        "    days, seconds = adjusted_timestamp.days, adjusted_timestamp.seconds\n",
        "    hours = \"0\"+str(days * 24 + seconds // 3600) if len(str(days * 24 + seconds // 3600)) == 1 else str(days * 24 + seconds // 3600)\n",
        "    minutes = \"0\"+str((seconds % 3600) // 60) if len(str((seconds % 3600) // 60)) == 1 else str((seconds % 3600) // 60)\n",
        "    seconds = \"0\"+str(seconds % 60) if len(str(seconds % 60)) == 1 else str(seconds % 60)\n",
        "    return hours+\":\"+minutes+\":\"+seconds"
      ],
      "execution_count": null,
      "outputs": []
    },
    {
      "cell_type": "code",
      "metadata": {
        "id": "2XRvNAiSDGk3"
      },
      "source": [
        "def get_clip(URL, FROM, TO, TARGET=[], format=\"best\", method=\"ytdl\", folder=\"\"):\n",
        "    duration = get_duration(FROM, TO)\n",
        "\n",
        "    with youtube_dl.YoutubeDL({'format': format, 'cachedir': False}) as ydl:\n",
        "        result = ydl.extract_info(URL, download=False)\n",
        "        video = result['entries'][0] if 'entries' in result else result\n",
        "        if TARGET is get_clip.__defaults__[0]:\n",
        "            TARGET = result[\"title\"]+\"_\"+FROM+\"_\"+TO+\".mp4\"\n",
        "    url_value = '\"'+str(video['url'])+'\"'\n",
        "\n",
        "    if method == \"ytdl\":\n",
        "        !youtube-dl -q -f bestvideo+bestaudio --add-metadata --write-thumbnail --write-description --write-info-json --hls-use-mpegts --no-part $URL -o clip\n",
        "        !ffmpeg -i clip.webm -c:v copy -c:a copy $TARGET\n",
        "        !ffmpeg -i clip.mkv -c:v copy -c:a copy $TARGET\n",
        "\n",
        "    if method == \"ytdlc\":\n",
        "        raise Exception(\"This feature is still a WIP.\")\n",
        "        !youtube-dlc -q -f bestvideo+bestaudio --add-metadata --write-thumbnail --write-description --write-info-json --hls-use-mpegts --no-part $URL -o $TARGET\n",
        "\n",
        "    if method == \"ffmpeg\":  \n",
        "        !ffmpeg -y -ss $FROM -i $url_value -t $duration $TARGET\n",
        "\n",
        "    if folder != \"\":\n",
        "        !cp $TARGET drive/My\\ Drive/$FOLDER/$TARGET"
      ],
      "execution_count": null,
      "outputs": []
    },
    {
      "cell_type": "code",
      "metadata": {
        "id": "S7_hMNkMJnov"
      },
      "source": [
        "def aonohara_get_clip(youtube_url, clip_start_time, duration, filename, folder=\"\"):\n",
        "    if folder==\"\":\n",
        "        absolute_drive_path = filename\n",
        "    else:\n",
        "        absolute_drive_path = os.path.join(\"/content/drive/My Drive\", folder, filename)\n",
        "    \n",
        "    mount_drive = True\n",
        "    if mount_drive:\n",
        "        drive.mount('/content/drive')\n",
        "\n",
        "    os.environ['YT_URL'] = youtube_url\n",
        "    os.environ['START_TIME'] = clip_start_time\n",
        "    os.environ['LENGTH'] = duration\n",
        "    os.environ['FILENAME'] = filename\n",
        "    os.environ['RAWVIDEO'] = filename[:-4]\n",
        "    !youtube-dl \"$YT_URL\" --output \"$RAWVIDEO\"\n",
        "    !ffmpeg -y -i \"$(ls $RAWVIDEO.*)\" -ss \"$START_TIME\" -t \"$LENGTH\" -c:v libx264 -c:a aac \"$FILENAME\"\n",
        "    \n",
        "    if folder!=\"\":\n",
        "        print(\"Copying file to Google Drive...\")\n",
        "        shutil.copy2(\"/content/\"+filename, absolute_drive_path)\n",
        "        print(\"File copied to Google Drive at\", absolute_drive_path)\n",
        "        !rm \"$FILENAME\"\n",
        "        !rm \"$(ls $RAWVIDEO.*)\""
      ],
      "execution_count": null,
      "outputs": []
    },
    {
      "cell_type": "markdown",
      "metadata": {
        "id": "5lFd1NAF0zxK"
      },
      "source": [
        "# Config"
      ]
    },
    {
      "cell_type": "markdown",
      "metadata": {
        "id": "D6lqX-EkJHRK"
      },
      "source": [
        "## Download Video"
      ]
    },
    {
      "cell_type": "markdown",
      "metadata": {
        "id": "P20N-ZWUD6T1"
      },
      "source": [
        "#### for one-time downloads"
      ]
    },
    {
      "cell_type": "code",
      "metadata": {
        "id": "AM9uu6ecGP1r"
      },
      "source": [
        "# url of the video you want to clip\n",
        "# URL = \"https://www.youtube.com/watch?v=zHODWkeNMYA\" # Kanata GTA V\n",
        "URL = \"https://www.youtube.com/watch?v=KRMfnvLODZQ\"\n",
        "18, 21, 29, 20\n",
        "# [5:27:43-5:27:48], [5:34:29-5:34:37], [5:39:45-5:40:01], [11:50:26-11:50:36]\n",
        "# start time of the clip\n",
        "FROM = \"11:50:21\"\n",
        "# end time of the clip\n",
        "TO = \"11:50:41\"\n",
        "\n",
        "# filename of the output file\n",
        "# TARGET = os.path.join(os.getcwd(),\"drive\",\"My\\ Drive\",\"Doris\",\"Raw\\ Clips\",\"Clip10.mkv\")\n",
        "FOLDER = \"\"\n",
        "TARGET = \"Clip11_4.mp4\"\n",
        "\n",
        "# get the seconds conversion of FROM\n",
        "FROM_seconds = int((datetime.strptime(FROM, \"%H:%M:%S\") - datetime(1900, 1, 1)).total_seconds())\n",
        "\n",
        "# YouTubeVideo(URL.split(\"=\")[1], start = FROM_seconds, autoplay=1, theme=\"light\", color=\"red\")"
      ],
      "execution_count": null,
      "outputs": []
    },
    {
      "cell_type": "code",
      "metadata": {
        "colab": {
          "base_uri": "https://localhost:8080/"
        },
        "id": "9i4kjWi8uGe3",
        "outputId": "26a2765d-ede6-4cbc-dd9f-81c8ecd1d229"
      },
      "source": [
        "# get_clip(URL, FROM, TO, TARGET, method=\"ffmpeg\")\n",
        "aonohara_get_clip(URL, FROM, get_duration(FROM, TO), TARGET, FOLDER)\n",
        "# !ffmpeg -i clip.mkv -c:v copy -c:a copy $TARGET"
      ],
      "execution_count": null,
      "outputs": [
        {
          "output_type": "stream",
          "text": [
            "\u001b[K[download] 100% of 20.18GiB in 09:13\n",
            "[download] Destination: Clip11_3.f251\n",
            "\u001b[K[download] 100% of 20.18GiB in 09:13\n",
            "[download] Destination: Clip11_3.f251\n",
            "\u001b[K[download] 100% of 539.30MiB in 00:14\n",
            "[ffmpeg] Merging formats into \"Clip11_3.mkv\"\n",
            "\u001b[K[download] 100% of 539.30MiB in 00:14\n",
            "[ffmpeg] Merging formats into \"Clip11_3.mkv\"\n",
            "Deleting original file Clip11_3.f299 (pass -k to keep)\n",
            "Deleting original file Clip11_3.f299 (pass -k to keep)\n",
            "Deleting original file Clip11_3.f251 (pass -k to keep)\n",
            "Deleting original file Clip11_3.f251 (pass -k to keep)\n",
            "ffmpeg version 3.4.8-0ubuntu0.2 Copyright (c) 2000-2020 the FFmpeg developers\n",
            "  built with gcc 7 (Ubuntu 7.5.0-3ubuntu1~18.04)\n",
            "  configuration: --prefix=/usr --extra-version=0ubuntu0.2 --toolchain=hardened --libdir=/usr/lib/x86_64-linux-gnu --incdir=/usr/include/x86_64-linux-gnu --enable-gpl --disable-stripping --enable-avresample --enable-avisynth --enable-gnutls --enable-ladspa --enable-libass --enable-libbluray --enable-libbs2b --enable-libcaca --enable-libcdio --enable-libflite --enable-libfontconfig --enable-libfreetype --enable-libfribidi --enable-libgme --enable-libgsm --enable-libmp3lame --enable-libmysofa --enable-libopenjpeg --enable-libopenmpt --enable-libopus --enable-libpulse --enable-librubberband --enable-librsvg --enable-libshine --enable-libsnappy --enable-libsoxr --enable-libspeex --enable-libssh --enable-libtheora --enable-libtwolame --enable-libvorbis --enable-libvpx --enable-libwavpack --enable-libwebp --enable-libx265 --enable-libxml2 --enable-libxvid --enable-libzmq --enable-libzvbi --enable-omx --enable-openal --enable-opengl --enable-sdl2 --enable-libdc1394 --enable-libdrm --enable-libiec61883 --enable-chromaprint --enable-frei0r --enable-libopencv --enable-libx264 --enable-shared\n",
            "  libavutil      55. 78.100 / 55. 78.100\n",
            "  libavcodec     57.107.100 / 57.107.100\n",
            "  libavformat    57. 83.100 / 57. 83.100\n",
            "  libavdevice    57. 10.100 / 57. 10.100\n",
            "  libavfilter     6.107.100 /  6.107.100\n",
            "  libavresample   3.  7.  0 /  3.  7.  0\n",
            "  libswscale      4.  8.100 /  4.  8.100\n",
            "  libswresample   2.  9.100 /  2.  9.100\n",
            "  libpostproc    54.  7.100 / 54.  7.100\n",
            "Input #0, matroska,webm, from 'Clip11_3.mkv':\n",
            "  Metadata:\n",
            "    COMPATIBLE_BRANDS: iso6avc1mp41\n",
            "    MAJOR_BRAND     : dash\n",
            "    MINOR_VERSION   : 0\n",
            "    ENCODER         : Lavf57.83.100\n",
            "  Duration: 11:53:39.02, start: -0.007000, bitrate: 4152 kb/s\n",
            "    Stream #0:0: Video: h264 (High), yuv420p(tv, bt709, progressive), 1920x1080 [SAR 1:1 DAR 16:9], 60 fps, 60 tbr, 1k tbn, 120 tbc (default)\n",
            "    Metadata:\n",
            "      HANDLER_NAME    : ISO Media file produced by Google Inc.\n",
            "      DURATION        : 11:53:39.000000000\n",
            "    Stream #0:1(eng): Audio: opus, 48000 Hz, stereo, fltp (default)\n",
            "    Metadata:\n",
            "      DURATION        : 11:53:39.021000000\n",
            "Stream mapping:\n",
            "  Stream #0:0 -> #0:0 (h264 (native) -> h264 (libx264))\n",
            "  Stream #0:1 -> #0:1 (opus (native) -> aac (native))\n",
            "Press [q] to stop, [?] for help\n",
            "\u001b[1;36m[libx264 @ 0x55bf7de30800] \u001b[0musing SAR=1/1\n",
            "\u001b[1;36m[libx264 @ 0x55bf7de30800] \u001b[0musing cpu capabilities: MMX2 SSE2Fast SSSE3 SSE4.2 AVX FMA3 BMI2 AVX2\n",
            "\u001b[1;36m[libx264 @ 0x55bf7de30800] \u001b[0mprofile High, level 4.2\n",
            "\u001b[1;36m[libx264 @ 0x55bf7de30800] \u001b[0m264 - core 152 r2854 e9a5903 - H.264/MPEG-4 AVC codec - Copyleft 2003-2017 - http://www.videolan.org/x264.html - options: cabac=1 ref=3 deblock=1:0:0 analyse=0x3:0x113 me=hex subme=7 psy=1 psy_rd=1.00:0.00 mixed_ref=1 me_range=16 chroma_me=1 trellis=1 8x8dct=1 cqm=0 deadzone=21,11 fast_pskip=1 chroma_qp_offset=-2 threads=3 lookahead_threads=1 sliced_threads=0 nr=0 decimate=1 interlaced=0 bluray_compat=0 constrained_intra=0 bframes=3 b_pyramid=2 b_adapt=1 b_bias=0 direct=1 weightb=1 open_gop=0 weightp=2 keyint=250 keyint_min=25 scenecut=40 intra_refresh=0 rc_lookahead=40 rc=crf mbtree=1 crf=23.0 qcomp=0.60 qpmin=0 qpmax=69 qpstep=4 ip_ratio=1.40 aq=1:1.00\n",
            "Output #0, mp4, to 'Clip11_3.mp4':\n",
            "  Metadata:\n",
            "    COMPATIBLE_BRANDS: iso6avc1mp41\n",
            "    MAJOR_BRAND     : dash\n",
            "    MINOR_VERSION   : 0\n",
            "    encoder         : Lavf57.83.100\n",
            "    Stream #0:0: Video: h264 (libx264) (avc1 / 0x31637661), yuv420p, 1920x1080 [SAR 1:1 DAR 16:9], q=-1--1, 60 fps, 15360 tbn, 60 tbc (default)\n",
            "    Metadata:\n",
            "      HANDLER_NAME    : ISO Media file produced by Google Inc.\n",
            "      DURATION        : 11:53:39.000000000\n",
            "      encoder         : Lavc57.107.100 libx264\n",
            "    Side data:\n",
            "      cpb: bitrate max/min/avg: 0/0/0 buffer size: 0 vbv_delay: -1\n",
            "    Stream #0:1(eng): Audio: aac (LC) (mp4a / 0x6134706D), 48000 Hz, stereo, fltp, 128 kb/s (default)\n",
            "    Metadata:\n",
            "      DURATION        : 11:53:39.021000000\n",
            "      encoder         : Lavc57.107.100 aac\n",
            "ffmpeg version 3.4.8-0ubuntu0.2 Copyright (c) 2000-2020 the FFmpeg developers\n",
            "  built with gcc 7 (Ubuntu 7.5.0-3ubuntu1~18.04)\n",
            "  configuration: --prefix=/usr --extra-version=0ubuntu0.2 --toolchain=hardened --libdir=/usr/lib/x86_64-linux-gnu --incdir=/usr/include/x86_64-linux-gnu --enable-gpl --disable-stripping --enable-avresample --enable-avisynth --enable-gnutls --enable-ladspa --enable-libass --enable-libbluray --enable-libbs2b --enable-libcaca --enable-libcdio --enable-libflite --enable-libfontconfig --enable-libfreetype --enable-libfribidi --enable-libgme --enable-libgsm --enable-libmp3lame --enable-libmysofa --enable-libopenjpeg --enable-libopenmpt --enable-libopus --enable-libpulse --enable-librubberband --enable-librsvg --enable-libshine --enable-libsnappy --enable-libsoxr --enable-libspeex --enable-libssh --enable-libtheora --enable-libtwolame --enable-libvorbis --enable-libvpx --enable-libwavpack --enable-libwebp --enable-libx265 --enable-libxml2 --enable-libxvid --enable-libzmq --enable-libzvbi --enable-omx --enable-openal --enable-opengl --enable-sdl2 --enable-libdc1394 --enable-libdrm --enable-libiec61883 --enable-chromaprint --enable-frei0r --enable-libopencv --enable-libx264 --enable-shared\n",
            "  libavutil      55. 78.100 / 55. 78.100\n",
            "  libavcodec     57.107.100 / 57.107.100\n",
            "  libavformat    57. 83.100 / 57. 83.100\n",
            "  libavdevice    57. 10.100 / 57. 10.100\n",
            "  libavfilter     6.107.100 /  6.107.100\n",
            "  libavresample   3.  7.  0 /  3.  7.  0\n",
            "  libswscale      4.  8.100 /  4.  8.100\n",
            "  libswresample   2.  9.100 /  2.  9.100\n",
            "  libpostproc    54.  7.100 / 54.  7.100\n",
            "Input #0, matroska,webm, from 'Clip11_3.mkv':\n",
            "  Metadata:\n",
            "    COMPATIBLE_BRANDS: iso6avc1mp41\n",
            "    MAJOR_BRAND     : dash\n",
            "    MINOR_VERSION   : 0\n",
            "    ENCODER         : Lavf57.83.100\n",
            "  Duration: 11:53:39.02, start: -0.007000, bitrate: 4152 kb/s\n",
            "    Stream #0:0: Video: h264 (High), yuv420p(tv, bt709, progressive), 1920x1080 [SAR 1:1 DAR 16:9], 60 fps, 60 tbr, 1k tbn, 120 tbc (default)\n",
            "    Metadata:\n",
            "      HANDLER_NAME    : ISO Media file produced by Google Inc.\n",
            "      DURATION        : 11:53:39.000000000\n",
            "    Stream #0:1(eng): Audio: opus, 48000 Hz, stereo, fltp (default)\n",
            "    Metadata:\n",
            "      DURATION        : 11:53:39.021000000\n",
            "Stream mapping:\n",
            "  Stream #0:0 -> #0:0 (h264 (native) -> h264 (libx264))\n",
            "  Stream #0:1 -> #0:1 (opus (native) -> aac (native))\n",
            "Press [q] to stop, [?] for help\n",
            "\u001b[1;36m[libx264 @ 0x55bf7de30800] \u001b[0musing SAR=1/1\n",
            "\u001b[1;36m[libx264 @ 0x55bf7de30800] \u001b[0musing cpu capabilities: MMX2 SSE2Fast SSSE3 SSE4.2 AVX FMA3 BMI2 AVX2\n",
            "\u001b[1;36m[libx264 @ 0x55bf7de30800] \u001b[0mprofile High, level 4.2\n",
            "\u001b[1;36m[libx264 @ 0x55bf7de30800] \u001b[0m264 - core 152 r2854 e9a5903 - H.264/MPEG-4 AVC codec - Copyleft 2003-2017 - http://www.videolan.org/x264.html - options: cabac=1 ref=3 deblock=1:0:0 analyse=0x3:0x113 me=hex subme=7 psy=1 psy_rd=1.00:0.00 mixed_ref=1 me_range=16 chroma_me=1 trellis=1 8x8dct=1 cqm=0 deadzone=21,11 fast_pskip=1 chroma_qp_offset=-2 threads=3 lookahead_threads=1 sliced_threads=0 nr=0 decimate=1 interlaced=0 bluray_compat=0 constrained_intra=0 bframes=3 b_pyramid=2 b_adapt=1 b_bias=0 direct=1 weightb=1 open_gop=0 weightp=2 keyint=250 keyint_min=25 scenecut=40 intra_refresh=0 rc_lookahead=40 rc=crf mbtree=1 crf=23.0 qcomp=0.60 qpmin=0 qpmax=69 qpstep=4 ip_ratio=1.40 aq=1:1.00\n",
            "Output #0, mp4, to 'Clip11_3.mp4':\n",
            "  Metadata:\n",
            "    COMPATIBLE_BRANDS: iso6avc1mp41\n",
            "    MAJOR_BRAND     : dash\n",
            "    MINOR_VERSION   : 0\n",
            "    encoder         : Lavf57.83.100\n",
            "    Stream #0:0: Video: h264 (libx264) (avc1 / 0x31637661), yuv420p, 1920x1080 [SAR 1:1 DAR 16:9], q=-1--1, 60 fps, 15360 tbn, 60 tbc (default)\n",
            "    Metadata:\n",
            "      HANDLER_NAME    : ISO Media file produced by Google Inc.\n",
            "      DURATION        : 11:53:39.000000000\n",
            "      encoder         : Lavc57.107.100 libx264\n",
            "    Side data:\n",
            "      cpb: bitrate max/min/avg: 0/0/0 buffer size: 0 vbv_delay: -1\n",
            "    Stream #0:1(eng): Audio: aac (LC) (mp4a / 0x6134706D), 48000 Hz, stereo, fltp, 128 kb/s (default)\n",
            "    Metadata:\n",
            "      DURATION        : 11:53:39.021000000\n",
            "      encoder         : Lavc57.107.100 aac\n",
            "frame= 1560 fps=0.2 q=-1.0 Lsize=   13149kB time=00:00:26.00 bitrate=4142.2kbits/s speed=0.00338x    \n",
            "video:12697kB audio:410kB subtitle:0kB other streams:0kB global headers:0kB muxing overhead: 0.317197%\n",
            "\u001b[1;36m[libx264 @ 0x55bf7de30800] \u001b[0mframe I:7     Avg QP:19.82  size:125834\n",
            "\u001b[1;36m[libx264 @ 0x55bf7de30800] \u001b[0mframe P:434   Avg QP:23.91  size: 18078\n",
            "\u001b[1;36m[libx264 @ 0x55bf7de30800] \u001b[0mframe B:1119  Avg QP:29.49  size:  3820\n",
            "\u001b[1;36m[libx264 @ 0x55bf7de30800] \u001b[0mconsecutive B-frames:  1.0%  7.3%  8.7% 83.1%\n",
            "\u001b[1;36m[libx264 @ 0x55bf7de30800] \u001b[0mmb I  I16..4: 18.3% 60.2% 21.4%\n",
            "\u001b[1;36m[libx264 @ 0x55bf7de30800] \u001b[0mmb P  I16..4:  3.9%  8.0%  0.5%  P16..4: 25.3%  6.4%  2.6%  0.0%  0.0%    skip:53.3%\n",
            "\u001b[1;36m[libx264 @ 0x55bf7de30800] \u001b[0mmb B  I16..4:  0.3%  0.4%  0.0%  B16..8: 18.9%  1.2%  0.1%  direct: 0.9%  skip:78.1%  L0:45.4% L1:52.5% BI: 2.2%\n",
            "\u001b[1;36m[libx264 @ 0x55bf7de30800] \u001b[0m8x8 transform intra:62.4% inter:81.3%\n",
            "\u001b[1;36m[libx264 @ 0x55bf7de30800] \u001b[0mcoded y,uvDC,uvAC intra: 32.1% 54.2% 22.5% inter: 3.3% 8.3% 0.4%\n",
            "\u001b[1;36m[libx264 @ 0x55bf7de30800] \u001b[0mi16 v,h,dc,p: 28% 55%  9%  8%\n",
            "\u001b[1;36m[libx264 @ 0x55bf7de30800] \u001b[0mi8 v,h,dc,ddl,ddr,vr,hd,vl,hu: 24% 26% 25%  4%  4%  4%  5%  4%  5%\n",
            "\u001b[1;36m[libx264 @ 0x55bf7de30800] \u001b[0mi4 v,h,dc,ddl,ddr,vr,hd,vl,hu: 25% 27% 14%  6%  6%  6%  6%  6%  5%\n",
            "\u001b[1;36m[libx264 @ 0x55bf7de30800] \u001b[0mi8c dc,h,v,p: 46% 31% 16%  6%\n",
            "\u001b[1;36m[libx264 @ 0x55bf7de30800] \u001b[0mWeighted P-Frames: Y:0.0% UV:0.0%\n",
            "\u001b[1;36m[libx264 @ 0x55bf7de30800] \u001b[0mref P L0: 68.9%  9.8% 16.5%  4.8%\n",
            "\u001b[1;36m[libx264 @ 0x55bf7de30800] \u001b[0mref B L0: 88.8%  9.8%  1.4%\n",
            "\u001b[1;36m[libx264 @ 0x55bf7de30800] \u001b[0mref B L1: 95.7%  4.3%\n",
            "\u001b[1;36m[libx264 @ 0x55bf7de30800] \u001b[0mkb/s:4000.42\n",
            "\u001b[1;36m[aac @ 0x55bf7de31700] \u001b[0mQavg: 716.459\n",
            "frame= 1560 fps=0.2 q=-1.0 Lsize=   13149kB time=00:00:26.00 bitrate=4142.2kbits/s speed=0.00338x    \n",
            "video:12697kB audio:410kB subtitle:0kB other streams:0kB global headers:0kB muxing overhead: 0.317197%\n",
            "\u001b[1;36m[libx264 @ 0x55bf7de30800] \u001b[0mframe I:7     Avg QP:19.82  size:125834\n",
            "\u001b[1;36m[libx264 @ 0x55bf7de30800] \u001b[0mframe P:434   Avg QP:23.91  size: 18078\n",
            "\u001b[1;36m[libx264 @ 0x55bf7de30800] \u001b[0mframe B:1119  Avg QP:29.49  size:  3820\n",
            "\u001b[1;36m[libx264 @ 0x55bf7de30800] \u001b[0mconsecutive B-frames:  1.0%  7.3%  8.7% 83.1%\n",
            "\u001b[1;36m[libx264 @ 0x55bf7de30800] \u001b[0mmb I  I16..4: 18.3% 60.2% 21.4%\n",
            "\u001b[1;36m[libx264 @ 0x55bf7de30800] \u001b[0mmb P  I16..4:  3.9%  8.0%  0.5%  P16..4: 25.3%  6.4%  2.6%  0.0%  0.0%    skip:53.3%\n",
            "\u001b[1;36m[libx264 @ 0x55bf7de30800] \u001b[0mmb B  I16..4:  0.3%  0.4%  0.0%  B16..8: 18.9%  1.2%  0.1%  direct: 0.9%  skip:78.1%  L0:45.4% L1:52.5% BI: 2.2%\n",
            "\u001b[1;36m[libx264 @ 0x55bf7de30800] \u001b[0m8x8 transform intra:62.4% inter:81.3%\n",
            "\u001b[1;36m[libx264 @ 0x55bf7de30800] \u001b[0mcoded y,uvDC,uvAC intra: 32.1% 54.2% 22.5% inter: 3.3% 8.3% 0.4%\n",
            "\u001b[1;36m[libx264 @ 0x55bf7de30800] \u001b[0mi16 v,h,dc,p: 28% 55%  9%  8%\n",
            "\u001b[1;36m[libx264 @ 0x55bf7de30800] \u001b[0mi8 v,h,dc,ddl,ddr,vr,hd,vl,hu: 24% 26% 25%  4%  4%  4%  5%  4%  5%\n",
            "\u001b[1;36m[libx264 @ 0x55bf7de30800] \u001b[0mi4 v,h,dc,ddl,ddr,vr,hd,vl,hu: 25% 27% 14%  6%  6%  6%  6%  6%  5%\n",
            "\u001b[1;36m[libx264 @ 0x55bf7de30800] \u001b[0mi8c dc,h,v,p: 46% 31% 16%  6%\n",
            "\u001b[1;36m[libx264 @ 0x55bf7de30800] \u001b[0mWeighted P-Frames: Y:0.0% UV:0.0%\n",
            "\u001b[1;36m[libx264 @ 0x55bf7de30800] \u001b[0mref P L0: 68.9%  9.8% 16.5%  4.8%\n",
            "\u001b[1;36m[libx264 @ 0x55bf7de30800] \u001b[0mref B L0: 88.8%  9.8%  1.4%\n",
            "\u001b[1;36m[libx264 @ 0x55bf7de30800] \u001b[0mref B L1: 95.7%  4.3%\n",
            "\u001b[1;36m[libx264 @ 0x55bf7de30800] \u001b[0mkb/s:4000.42\n",
            "\u001b[1;36m[aac @ 0x55bf7de31700] \u001b[0mQavg: 716.459\n"
          ],
          "name": "stdout"
        }
      ]
    },
    {
      "cell_type": "markdown",
      "metadata": {
        "id": "OluCRg9AD_Z1"
      },
      "source": [
        "#### for multiple downloads\n",
        "if you have multiple clips you need to download, you can place the data in a google sheet.\n",
        "\n",
        "The sheet must have a column named Link & Timestamp containing the url and timestamps you want to parse respectively.\n",
        "\n",
        "The Timestamp column must follow the format [hh:mm:ss-hh:mm:ss], [hh:mm:ss-hh:mm:ss]"
      ]
    },
    {
      "cell_type": "code",
      "metadata": {
        "colab": {
          "base_uri": "https://localhost:8080/"
        },
        "id": "dYg_OfnTuqFI",
        "outputId": "b25a06c5-80a8-4c36-c5ec-75f34e9ce84d"
      },
      "source": [
        "!pip install --upgrade gspread\n",
        "from google.colab import auth\n",
        "import gspread\n",
        "from oauth2client.client import GoogleCredentials\n",
        "from tqdm import tqdm"
      ],
      "execution_count": null,
      "outputs": [
        {
          "output_type": "stream",
          "text": [
            "Collecting gspread\n",
            "  Downloading https://files.pythonhosted.org/packages/9c/ba/bc8de4f5077bd34bc873bdd67a89cb29c4f181abba8a836d2c6a0a142365/gspread-3.6.0-py3-none-any.whl\n",
            "Requirement already satisfied, skipping upgrade: requests>=2.2.1 in /usr/local/lib/python3.6/dist-packages (from gspread) (2.23.0)\n",
            "Requirement already satisfied, skipping upgrade: google-auth-oauthlib>=0.4.1 in /usr/local/lib/python3.6/dist-packages (from gspread) (0.4.2)\n",
            "Requirement already satisfied, skipping upgrade: google-auth>=1.12.0 in /usr/local/lib/python3.6/dist-packages (from gspread) (1.17.2)\n",
            "Requirement already satisfied, skipping upgrade: idna<3,>=2.5 in /usr/local/lib/python3.6/dist-packages (from requests>=2.2.1->gspread) (2.10)\n",
            "Requirement already satisfied, skipping upgrade: urllib3!=1.25.0,!=1.25.1,<1.26,>=1.21.1 in /usr/local/lib/python3.6/dist-packages (from requests>=2.2.1->gspread) (1.24.3)\n",
            "Requirement already satisfied, skipping upgrade: chardet<4,>=3.0.2 in /usr/local/lib/python3.6/dist-packages (from requests>=2.2.1->gspread) (3.0.4)\n",
            "Requirement already satisfied, skipping upgrade: certifi>=2017.4.17 in /usr/local/lib/python3.6/dist-packages (from requests>=2.2.1->gspread) (2020.11.8)\n",
            "Requirement already satisfied, skipping upgrade: requests-oauthlib>=0.7.0 in /usr/local/lib/python3.6/dist-packages (from google-auth-oauthlib>=0.4.1->gspread) (1.3.0)\n",
            "Requirement already satisfied, skipping upgrade: rsa<5,>=3.1.4; python_version >= \"3\" in /usr/local/lib/python3.6/dist-packages (from google-auth>=1.12.0->gspread) (4.6)\n",
            "Requirement already satisfied, skipping upgrade: cachetools<5.0,>=2.0.0 in /usr/local/lib/python3.6/dist-packages (from google-auth>=1.12.0->gspread) (4.1.1)\n",
            "Requirement already satisfied, skipping upgrade: six>=1.9.0 in /usr/local/lib/python3.6/dist-packages (from google-auth>=1.12.0->gspread) (1.15.0)\n",
            "Requirement already satisfied, skipping upgrade: setuptools>=40.3.0 in /usr/local/lib/python3.6/dist-packages (from google-auth>=1.12.0->gspread) (50.3.2)\n",
            "Requirement already satisfied, skipping upgrade: pyasn1-modules>=0.2.1 in /usr/local/lib/python3.6/dist-packages (from google-auth>=1.12.0->gspread) (0.2.8)\n",
            "Requirement already satisfied, skipping upgrade: oauthlib>=3.0.0 in /usr/local/lib/python3.6/dist-packages (from requests-oauthlib>=0.7.0->google-auth-oauthlib>=0.4.1->gspread) (3.1.0)\n",
            "Requirement already satisfied, skipping upgrade: pyasn1>=0.1.3 in /usr/local/lib/python3.6/dist-packages (from rsa<5,>=3.1.4; python_version >= \"3\"->google-auth>=1.12.0->gspread) (0.4.8)\n",
            "Installing collected packages: gspread\n",
            "  Found existing installation: gspread 3.0.1\n",
            "    Uninstalling gspread-3.0.1:\n",
            "      Successfully uninstalled gspread-3.0.1\n",
            "Successfully installed gspread-3.6.0\n"
          ],
          "name": "stdout"
        }
      ]
    },
    {
      "cell_type": "code",
      "metadata": {
        "id": "CIuSV99Bu9Kk"
      },
      "source": [
        "def extract_timestamps(sheet, sheet_name, add_pad,verbose=False):\n",
        "    df = pd.DataFrame(sheet.get_all_records()).rename(columns={\"Timestamps\":\"Timestamp\", \"Time Stamps\":\"Timestamp\", \"What's happening\":\"Desc\", \"Explanation\":\"Desc\", \"YouTube Link\":\"Link\"})\n",
        "    df_sliced = df[(df[\"Filename\"]!=\"\")].reset_index(drop=True)\n",
        "    df_sliced[\"Timestamp\"] = df_sliced[\"Timestamp\"].str.strip()\n",
        "    url = [df_sliced.loc[row, \"Link\"][:43] for row in range(len(df_sliced))]\n",
        "    timestamp_list = [re.sub(\"[^0-9:,-]\", \"\", df_sliced.loc[row, \"Timestamp\"]).split(\",\") for row in range(len(df_sliced))]\n",
        "    timestamp_series = pd.Series(timestamp_list).apply(pd.Series).reset_index().melt(id_vars='index').dropna()[['index', 'value']].set_index('index')\n",
        "    df_merge = pd.merge(df_sliced, timestamp_series, left_index=True, right_index=True).reset_index(drop=True)\n",
        "    df_merge[\"start_time\"] = df_merge[\"value\"].str.split(\"-\", expand=True)[0]\n",
        "    df_merge[\"Link\"] = df_merge[\"Link\"].apply(lambda x: x.split(\"?\")[0] if \"youtu.be\" in x else x.split(\"&\")[0])\n",
        "    df_merge[\"end_time\"] = df_merge[\"value\"].str.split(\"-\", expand=True)[1]\n",
        "    df_merge[\"start_time_new\"] = df_merge[\"start_time\"].apply(lambda x: clean_timestamp(x,\"start_time\", add_pad, verbose))\n",
        "    df_merge[\"end_time_new\"] = df_merge[\"end_time\"].apply(lambda x: clean_timestamp(x,\"end_time\", add_pad, verbose))\n",
        "    df_merge[\"duration\"] = df_merge[[\"start_time_new\", \"end_time_new\"]].apply(lambda x : get_duration(*x), axis=1)\n",
        "    # df_merge[\"gap\"] = df_merge[[\"start_time_new\", \"end_time_new\"]]\n",
        "    df_merge[\"count\"] = df_merge.groupby('Desc').cumcount() + 1\n",
        "    df_merge[\"folder\"] = df_merge[\"Desc\"].apply(lambda x: re.sub(\"[^A-Za-z0-9 ._]\", \"\", x)).str.replace(\" \",\"_\")\n",
        "    df_merge[\"title\"] = df_merge[\"Desc\"].apply(lambda x: re.sub(\"[^A-Za-z0-9 ._]\", \"\", x+\"_Clip\")).str.replace(\" \",\"_\")\n",
        "    df_merge[\"title\"] = df_merge[\"title\"] + df_merge[\"count\"].apply(str) + \".mp4\"\n",
        "    df_merge[\"sheet_name\"] = sheet_name\n",
        "    return df_merge.drop([\"count\"], axis=1)"
      ],
      "execution_count": null,
      "outputs": []
    },
    {
      "cell_type": "code",
      "metadata": {
        "id": "r3TXkKAqu9fK"
      },
      "source": [
        "def get_sheet_time(url, sheets_list=[], verbose=False):\n",
        "\n",
        "    auth.authenticate_user()\n",
        "    gc = gspread.authorize(GoogleCredentials.get_application_default())\n",
        "    df = pd.DataFrame()\n",
        "\n",
        "    worksheet = gc.open_by_url(url)\n",
        "\n",
        "    for sheet in worksheet.worksheets():\n",
        "        if sheet.title in sheets_list:\n",
        "            if verbose == True:\n",
        "                print(sheet.title)\n",
        "            placeholder_df = extract_timestamps(sheet, sheet.title, verbose)\n",
        "            df = pd.concat([df, placeholder_df])\n",
        "    return df.drop([\"value\"], axis=1).reset_index(drop=True)"
      ],
      "execution_count": null,
      "outputs": []
    },
    {
      "cell_type": "code",
      "metadata": {
        "colab": {
          "base_uri": "https://localhost:8080/",
          "height": 763
        },
        "id": "7ixBgO3TDvu-",
        "outputId": "3293f61b-f739-48c7-ac52-98206987aa20"
      },
      "source": [
        "url = \"https://docs.google.com/spreadsheets/d/1mg18bJE5J1qHGejVjKRx9ZUBUCbaEdWYSPCLy9SyA2s/edit#gid=1909165107\"\n",
        "\n",
        "sheets_list = [\"Doris\"]\n",
        "failed_list = []\n",
        "interval = 0\n",
        "\n",
        "## No need to touch the code beyond this line.\n",
        "df = get_sheet_time(url, sheets_list, interval)#, verbose=True)\n",
        "print(df.shape)\n",
        "df\n",
        "\n",
        "# sheet_name = df.loc[0, \"sheet_name\"].split(\" \")[1].replace(\" \", \"\\ \")\n",
        "# for folder in df.folder.unique():\n",
        "#     !mkdir -p /content/drive/My\\ Drive/$sheet_name/Raw\\ Clips/$folder\n",
        "\n",
        "# for row in range(31, 32):\n",
        "#     print(df.loc[row, \"Link\"], df.loc[row, \"start_time_new\"], df.loc[row, \"end_time_new\"], df.loc[row, \"duration\"], df.loc[row, \"sheet_name\"].split(\" \")[-1], df.loc[row, \"folder\"], df.loc[row, \"title\"])\n",
        "    # try:\n",
        "    #     aonohara_get_clip(df.loc[row, \"Link\"], df.loc[row, \"start_time_new\"], df.loc[row, \"duration\"], df.loc[row, \"sheet_name\"].split(\" \")[-1], df.loc[row, \"folder\"], df.loc[row, \"title\"])\n",
        "    #     # get_clip(df.loc[row, \"Link\"], df.loc[row, \"start_time_new\"], df.loc[row, \"end_time_new\"], \"/content/sample/\"+df.loc[row, \"folder\"]+\"/\"+df.loc[row, \"title\"])\n",
        "    # except Exception as e:\n",
        "    #     failed_list.append(df.loc[row, \"Link\"])\n",
        "        # print(e, df.loc[row, \"Link\"])"
      ],
      "execution_count": null,
      "outputs": [
        {
          "output_type": "stream",
          "text": [
            "(11, 17)\n"
          ],
          "name": "stdout"
        },
        {
          "output_type": "execute_result",
          "data": {
            "text/html": [
              "<div>\n",
              "<style scoped>\n",
              "    .dataframe tbody tr th:only-of-type {\n",
              "        vertical-align: middle;\n",
              "    }\n",
              "\n",
              "    .dataframe tbody tr th {\n",
              "        vertical-align: top;\n",
              "    }\n",
              "\n",
              "    .dataframe thead th {\n",
              "        text-align: right;\n",
              "    }\n",
              "</style>\n",
              "<table border=\"1\" class=\"dataframe\">\n",
              "  <thead>\n",
              "    <tr style=\"text-align: right;\">\n",
              "      <th></th>\n",
              "      <th>Clip number</th>\n",
              "      <th>Date</th>\n",
              "      <th>Link</th>\n",
              "      <th>Timestamp:</th>\n",
              "      <th>Lengths</th>\n",
              "      <th>Desc</th>\n",
              "      <th>Final order</th>\n",
              "      <th>Filename</th>\n",
              "      <th>Timestamp</th>\n",
              "      <th>start_time</th>\n",
              "      <th>end_time</th>\n",
              "      <th>start_time_new</th>\n",
              "      <th>end_time_new</th>\n",
              "      <th>duration</th>\n",
              "      <th>folder</th>\n",
              "      <th>title</th>\n",
              "      <th>sheet_name</th>\n",
              "    </tr>\n",
              "  </thead>\n",
              "  <tbody>\n",
              "    <tr>\n",
              "      <th>0</th>\n",
              "      <td>1</td>\n",
              "      <td>2020-07-14</td>\n",
              "      <td>https://www.bilibili.com/video/BV1jC4y1h79T/</td>\n",
              "      <td>[1:00-1:17]</td>\n",
              "      <td>17</td>\n",
              "      <td>Doris gets bombarded by SCs.</td>\n",
              "      <td></td>\n",
              "      <td>Clip1</td>\n",
              "      <td>[1:00-1:17]</td>\n",
              "      <td>1:00</td>\n",
              "      <td>1:17</td>\n",
              "      <td>00:01:00</td>\n",
              "      <td>00:01:17</td>\n",
              "      <td>00:00:17</td>\n",
              "      <td>Doris_gets_bombarded_by_SCs.</td>\n",
              "      <td>Doris_gets_bombarded_by_SCs._Clip1.mp4</td>\n",
              "      <td>Doris</td>\n",
              "    </tr>\n",
              "    <tr>\n",
              "      <th>1</th>\n",
              "      <td>2</td>\n",
              "      <td>2020-04-25</td>\n",
              "      <td>https://www.bilibili.com/video/BV1V64y1M7UV</td>\n",
              "      <td>[0:32-1:11]</td>\n",
              "      <td>39</td>\n",
              "      <td>Start Dash, one of the most famous songs in LL...</td>\n",
              "      <td></td>\n",
              "      <td>Clip2</td>\n",
              "      <td>[0:32-1:11]</td>\n",
              "      <td>0:32</td>\n",
              "      <td>1:11</td>\n",
              "      <td>00:00:32</td>\n",
              "      <td>00:01:11</td>\n",
              "      <td>00:00:39</td>\n",
              "      <td>Start_Dash_one_of_the_most_famous_songs_in_LL....</td>\n",
              "      <td>Start_Dash_one_of_the_most_famous_songs_in_LL....</td>\n",
              "      <td>Doris</td>\n",
              "    </tr>\n",
              "    <tr>\n",
              "      <th>2</th>\n",
              "      <td>3</td>\n",
              "      <td>2020-04-14</td>\n",
              "      <td>https://www.bilibili.com/video/BV1ga4y147Ni</td>\n",
              "      <td>[118:12-119:21]</td>\n",
              "      <td>69</td>\n",
              "      <td>Thank you friends, very emotional song.</td>\n",
              "      <td></td>\n",
              "      <td>Clip3</td>\n",
              "      <td>[01:58:12-01:59:21]</td>\n",
              "      <td>01:58:12</td>\n",
              "      <td>01:59:21</td>\n",
              "      <td>01:58:12</td>\n",
              "      <td>01:59:21</td>\n",
              "      <td>00:01:09</td>\n",
              "      <td>Thank_you_friends_very_emotional_song.</td>\n",
              "      <td>Thank_you_friends_very_emotional_song._Clip1.mp4</td>\n",
              "      <td>Doris</td>\n",
              "    </tr>\n",
              "    <tr>\n",
              "      <th>3</th>\n",
              "      <td>4</td>\n",
              "      <td>2020-03-15</td>\n",
              "      <td>https://www.bilibili.com/video/BV1KE41137Ja</td>\n",
              "      <td>[1:04-1:32]</td>\n",
              "      <td>28</td>\n",
              "      <td>Doris is a mermaid+Debut vid, shinkai shoujo r...</td>\n",
              "      <td></td>\n",
              "      <td>Clip4</td>\n",
              "      <td>[1:04-1:32]</td>\n",
              "      <td>1:04</td>\n",
              "      <td>1:32</td>\n",
              "      <td>00:01:04</td>\n",
              "      <td>00:01:32</td>\n",
              "      <td>00:00:28</td>\n",
              "      <td>Doris_is_a_mermaidDebut_vid_shinkai_shoujo_res...</td>\n",
              "      <td>Doris_is_a_mermaidDebut_vid_shinkai_shoujo_res...</td>\n",
              "      <td>Doris</td>\n",
              "    </tr>\n",
              "    <tr>\n",
              "      <th>4</th>\n",
              "      <td>5</td>\n",
              "      <td>2020-08-13</td>\n",
              "      <td>https://www.bilibili.com/video/BV165411874h</td>\n",
              "      <td>[0:00-0:10]</td>\n",
              "      <td>10</td>\n",
              "      <td>Doris is fooood</td>\n",
              "      <td></td>\n",
              "      <td>Clip5</td>\n",
              "      <td>[0:00-0:10]</td>\n",
              "      <td>0:00</td>\n",
              "      <td>0:10</td>\n",
              "      <td>00:00:00</td>\n",
              "      <td>00:00:10</td>\n",
              "      <td>00:00:10</td>\n",
              "      <td>Doris_is_fooood</td>\n",
              "      <td>Doris_is_fooood_Clip1.mp4</td>\n",
              "      <td>Doris</td>\n",
              "    </tr>\n",
              "    <tr>\n",
              "      <th>5</th>\n",
              "      <td>6</td>\n",
              "      <td>2020-06-02</td>\n",
              "      <td>https://www.bilibili.com/video/BV13k4y1z72Z</td>\n",
              "      <td>[19:38-20:17]</td>\n",
              "      <td>39</td>\n",
              "      <td>Emotional Birthday moment</td>\n",
              "      <td></td>\n",
              "      <td>Clip6</td>\n",
              "      <td>[19:38-20:17]</td>\n",
              "      <td>19:38</td>\n",
              "      <td>20:17</td>\n",
              "      <td>00:19:38</td>\n",
              "      <td>00:20:17</td>\n",
              "      <td>00:00:39</td>\n",
              "      <td>Emotional_Birthday_moment</td>\n",
              "      <td>Emotional_Birthday_moment_Clip1.mp4</td>\n",
              "      <td>Doris</td>\n",
              "    </tr>\n",
              "    <tr>\n",
              "      <th>6</th>\n",
              "      <td>7</td>\n",
              "      <td>2020-07-19</td>\n",
              "      <td>https://www.bilibili.com/video/BV1rv411q7sF/</td>\n",
              "      <td>[0:26-0:44]</td>\n",
              "      <td>18</td>\n",
              "      <td>Doris getting baited by 98K in pubg</td>\n",
              "      <td></td>\n",
              "      <td>Clip7</td>\n",
              "      <td>[0:26-0:44]</td>\n",
              "      <td>0:26</td>\n",
              "      <td>0:44</td>\n",
              "      <td>00:00:26</td>\n",
              "      <td>00:00:44</td>\n",
              "      <td>00:00:18</td>\n",
              "      <td>Doris_getting_baited_by_98K_in_pubg</td>\n",
              "      <td>Doris_getting_baited_by_98K_in_pubg_Clip1.mp4</td>\n",
              "      <td>Doris</td>\n",
              "    </tr>\n",
              "    <tr>\n",
              "      <th>7</th>\n",
              "      <td>8</td>\n",
              "      <td>2020-07-17</td>\n",
              "      <td>https://www.bilibili.com/video/BV1u5411a7d5</td>\n",
              "      <td>[2:50-2:54]</td>\n",
              "      <td>4</td>\n",
              "      <td>Doris-chan wa kyou mo kawaii</td>\n",
              "      <td></td>\n",
              "      <td>Clip8</td>\n",
              "      <td>[2:50-2:54]</td>\n",
              "      <td>2:50</td>\n",
              "      <td>2:54</td>\n",
              "      <td>00:02:50</td>\n",
              "      <td>00:02:54</td>\n",
              "      <td>00:00:04</td>\n",
              "      <td>Dorischan_wa_kyou_mo_kawaii</td>\n",
              "      <td>Dorischan_wa_kyou_mo_kawaii_Clip1.mp4</td>\n",
              "      <td>Doris</td>\n",
              "    </tr>\n",
              "    <tr>\n",
              "      <th>8</th>\n",
              "      <td>9</td>\n",
              "      <td>2020-06-05</td>\n",
              "      <td>https://www.bilibili.com/video/BV1tK411p7WY</td>\n",
              "      <td>[0:59-1:59]</td>\n",
              "      <td>60</td>\n",
              "      <td>Doris confessing to Rosalyn</td>\n",
              "      <td></td>\n",
              "      <td>Clip9</td>\n",
              "      <td>[0:59-1:59]</td>\n",
              "      <td>0:59</td>\n",
              "      <td>1:59</td>\n",
              "      <td>00:00:59</td>\n",
              "      <td>00:01:59</td>\n",
              "      <td>00:01:00</td>\n",
              "      <td>Doris_confessing_to_Rosalyn</td>\n",
              "      <td>Doris_confessing_to_Rosalyn_Clip1.mp4</td>\n",
              "      <td>Doris</td>\n",
              "    </tr>\n",
              "    <tr>\n",
              "      <th>9</th>\n",
              "      <td>10</td>\n",
              "      <td>2020-04-05</td>\n",
              "      <td>https://www.bilibili.com/video/BV1RT4y137Xm</td>\n",
              "      <td>[62:10 - 62:22]</td>\n",
              "      <td>12</td>\n",
              "      <td>Start of Doris bond with fans</td>\n",
              "      <td></td>\n",
              "      <td>Clip10</td>\n",
              "      <td>[1:02:10 - 1:02:22]</td>\n",
              "      <td>1:02:10</td>\n",
              "      <td>1:02:22</td>\n",
              "      <td>01:02:10</td>\n",
              "      <td>01:02:22</td>\n",
              "      <td>00:00:12</td>\n",
              "      <td>Start_of_Doris_bond_with_fans</td>\n",
              "      <td>Start_of_Doris_bond_with_fans_Clip1.mp4</td>\n",
              "      <td>Doris</td>\n",
              "    </tr>\n",
              "    <tr>\n",
              "      <th>10</th>\n",
              "      <td>11</td>\n",
              "      <td>2020-04-26</td>\n",
              "      <td>https://www.bilibili.com/video/BV15Z4y147cq</td>\n",
              "      <td>[0:53-1:09]</td>\n",
              "      <td>16</td>\n",
              "      <td></td>\n",
              "      <td></td>\n",
              "      <td>Clip11</td>\n",
              "      <td>[0:53-1:09]</td>\n",
              "      <td>0:53</td>\n",
              "      <td>1:09</td>\n",
              "      <td>00:00:53</td>\n",
              "      <td>00:01:09</td>\n",
              "      <td>00:00:16</td>\n",
              "      <td></td>\n",
              "      <td>_Clip1.mp4</td>\n",
              "      <td>Doris</td>\n",
              "    </tr>\n",
              "  </tbody>\n",
              "</table>\n",
              "</div>"
            ],
            "text/plain": [
              "   Clip number  ... sheet_name\n",
              "0            1  ...      Doris\n",
              "1            2  ...      Doris\n",
              "2            3  ...      Doris\n",
              "3            4  ...      Doris\n",
              "4            5  ...      Doris\n",
              "5            6  ...      Doris\n",
              "6            7  ...      Doris\n",
              "7            8  ...      Doris\n",
              "8            9  ...      Doris\n",
              "9           10  ...      Doris\n",
              "10          11  ...      Doris\n",
              "\n",
              "[11 rows x 17 columns]"
            ]
          },
          "metadata": {
            "tags": []
          },
          "execution_count": 22
        }
      ]
    },
    {
      "cell_type": "code",
      "metadata": {
        "id": "iFk71FndsaUs"
      },
      "source": [
        "df_copy = df.copy()\n",
        "df_copy[\"start_time\"] = df_copy[\"start_time\"].apply(lambda x: \"[\"+x)\n",
        "df_copy[\"start_time_new\"] = df_copy[\"start_time_new\"].apply(lambda x: \"[\"+x)\n",
        "df_copy[\"end_time\"] = df_copy[\"end_time\"].apply(lambda x: \"-\"+x+\"]\")\n",
        "df_copy[\"end_time_new\"] = df_copy[\"end_time_new\"].apply(lambda x: \"-\"+x+\"]\")\n",
        "df_copy[\"final_time\"] = df_copy[\"start_time_new\"] + df_copy[\"end_time_new\"]\n",
        "df_copy[\"Timestamp\"] = df_copy[\"start_time\"] + df_copy[\"end_time\"]\n",
        "df_copy[\"Filename\"] = df_copy[\"Filename\"].apply(lambda x: \"-c copy drive/My\\ Drive/\"+df.loc[0, \"sheet_name\"].split(\" \")[-1]+\"/Raw\\ Clips/\"+x+\".mkv\")\n",
        "df_copy_grouped = df_copy.groupby([\"Filename\", \"Link\", \"folder\"])[[\"final_time\", \"Timestamp\"]].sum().reset_index()\n",
        "df_copy_grouped.head(2)\n",
        "\n",
        "df_copy_grouped[[\"Link\",\"final_time\",\"Filename\",\"Timestamp\",\"folder\"]].to_csv(df.loc[0, \"sheet_name\"].split(\" \")[-1]+\"_\"+str(interval)+\"secpad.csv\", index=False)"
      ],
      "execution_count": null,
      "outputs": []
    },
    {
      "cell_type": "markdown",
      "metadata": {
        "id": "qZSOBY3ET-Lc"
      },
      "source": [
        "# Old Scripts"
      ]
    },
    {
      "cell_type": "markdown",
      "metadata": {
        "id": "vkhqGyVfr0GM"
      },
      "source": [
        "## Play Video"
      ]
    },
    {
      "cell_type": "code",
      "metadata": {
        "id": "pXAGCu8-APg9"
      },
      "source": [
        "!ffprobe \"Graduation Ceremony - Wanna be your sunshine-hceZWCwcyBs.mp4\""
      ],
      "execution_count": null,
      "outputs": []
    },
    {
      "cell_type": "code",
      "metadata": {
        "id": "hghs-92HGI_l"
      },
      "source": [
        "from IPython.display import HTML, YouTubeVideo\n",
        "from base64 import b64encode\n",
        "\n",
        "mp4 = open('Graduation Ceremony - Wanna be your sunshine-hceZWCwcyBs.mp4','rb').read()\n",
        "data_url = 'data:video/mp4;base64,' + b64encode(mp4).decode()\n",
        "HTML(\"\"\"\n",
        "<video width=720 controls>\n",
        "      <source src=\"%s\" type=\"video/mp4\">\n",
        "</video>\n",
        "\"\"\" % data_url)"
      ],
      "execution_count": null,
      "outputs": []
    },
    {
      "cell_type": "markdown",
      "metadata": {
        "id": "cXyVKq1lBfHb"
      },
      "source": [
        "## Move Video"
      ]
    },
    {
      "cell_type": "code",
      "metadata": {
        "colab": {
          "base_uri": "https://localhost:8080/",
          "height": 53
        },
        "id": "mAlQWG0AB4pV",
        "outputId": "0c1002ec-3381-4d38-e349-3214ea2b2554"
      },
      "source": [
        "import os\n",
        "master_clips_folder = os.path.join(os.getcwd(), \"drive\", \"My Drive\", \"Hololive Resistance Youtube\", \"Collab\", \"2020 Year HoloRewind (w  Aonahara + HLR)\", \"Master Assets\")\n",
        "miyabi_folder = os.path.join(master_clips_folder, \"Stars Gen 1\", \"Miyabi\", \"Raw Clips\")\n",
        "miyabi_folder"
      ],
      "execution_count": null,
      "outputs": [
        {
          "output_type": "execute_result",
          "data": {
            "application/vnd.google.colaboratory.intrinsic+json": {
              "type": "string"
            },
            "text/plain": [
              "'/content/drive/My Drive/Hololive Resistance Youtube/Collab/2020 Year HoloRewind (w  Aonahara + HLR)/Master Assets/Stars Gen 1/Miyabi/Raw Clips'"
            ]
          },
          "metadata": {
            "tags": []
          },
          "execution_count": 92
        }
      ]
    },
    {
      "cell_type": "code",
      "metadata": {
        "colab": {
          "base_uri": "https://localhost:8080/"
        },
        "id": "52wIBN7523iY",
        "outputId": "8cda3614-042e-4525-88d6-9b2c1312c138"
      },
      "source": [
        "!gsutil cp -r /content/sample/ /content/drive/My\\ Drive/Hololive\\ Resistance\\ Youtube/Collab/2020\\ Year\\ HoloRewind\\ \\(w\\ \\ Aonahara\\ +\\ HLR\\)/Master\\ Assets/Stars\\ Gen\\ 1/Miyabi/Raw\\ Clips"
      ],
      "execution_count": null,
      "outputs": [
        {
          "output_type": "stream",
          "text": [
            "Copying file:///content/sample/Miyabi_got_scared_with_loading_screen_voice/Miyabi_got_scared_with_loading_screen_voice_Clip_1.mp4...\n",
            "/ [0 files][    0.0 B/  3.8 MiB]                                                \r/ [1 files][  3.8 MiB/  3.8 MiB]                                                \rCopying file:///content/sample/Oran_ge_Orange_/Oran_ge_Orange__Clip_2.mp4...\n",
            "/ [1 files][  3.8 MiB/  4.7 MiB]                                                \r/ [2 files][  4.7 MiB/  4.7 MiB]                                                \rCopying file:///content/sample/Oran_ge_Orange_/Oran_ge_Orange__Clip_1.mp4...\n",
            "/ [2 files][  4.7 MiB/  5.6 MiB]                                                \r/ [3 files][  5.6 MiB/  5.6 MiB]                                                \rCopying file:///content/sample/Miyabi_got_a_hair_strand_on_chocolate/Miyabi_got_a_hair_strand_on_chocolate_Clip_2.mp4...\n",
            "/ [3 files][  5.6 MiB/  8.0 MiB]                                                \r/ [4 files][  8.0 MiB/  8.0 MiB]                                                \r\n",
            "==> NOTE: You are performing a sequence of gsutil operations that may\n",
            "run significantly faster if you instead use gsutil -m cp ... Please\n",
            "see the -m section under \"gsutil help options\" for further information\n",
            "about when gsutil -m can be advantageous.\n",
            "\n",
            "Copying file:///content/sample/Miyabi_got_a_hair_strand_on_chocolate/Miyabi_got_a_hair_strand_on_chocolate_Clip_4.mp4...\n",
            "/ [4 files][  8.0 MiB/ 11.6 MiB]                                                \r/ [5 files][ 11.6 MiB/ 11.6 MiB]                                                \rCopying file:///content/sample/Miyabi_got_a_hair_strand_on_chocolate/Miyabi_got_a_hair_strand_on_chocolate_Clip_3.mp4...\n",
            "Copying file:///content/sample/Miyabi_got_a_hair_strand_on_chocolate/Miyabi_got_a_hair_strand_on_chocolate_Clip_1.mp4...\n",
            "Copying file:///content/sample/Holostars_is_a_family/Holostars_is_a_family_Clip_1.mp4...\n",
            "Copying file:///content/sample/Thanking_everyone_super_teetee/Thanking_everyone_super_teetee_Clip_3.mp4...\n",
            "Copying file:///content/sample/Thanking_everyone_super_teetee/Thanking_everyone_super_teetee_Clip_4.mp4...\n",
            "Copying file:///content/sample/Thanking_everyone_super_teetee/Thanking_everyone_super_teetee_Clip_1.mp4...\n",
            "Copying file:///content/sample/Thanking_everyone_super_teetee/Thanking_everyone_super_teetee_Clip_5.mp4...\n",
            "Copying file:///content/sample/Thanking_everyone_super_teetee/Thanking_everyone_super_teetee_Clip_2.mp4...\n",
            "Copying file:///content/sample/Thanking_everyone_super_teetee/Thanking_everyone_super_teetee_Clip_6.mp4...\n",
            "Copying file:///content/sample/Is_that_YAGOO/Is_that_YAGOO_Clip_2.mp4...\n",
            "Copying file:///content/sample/Is_that_YAGOO/Is_that_YAGOO_Clip_5.mp4...\n",
            "Copying file:///content/sample/Is_that_YAGOO/Is_that_YAGOO_Clip_3.mp4...\n",
            "Copying file:///content/sample/Is_that_YAGOO/Is_that_YAGOO_Clip_4.mp4...\n",
            "Copying file:///content/sample/Is_that_YAGOO/Is_that_YAGOO_Clip_1.mp4...\n",
            "Copying file:///content/sample/Is_that_YAGOO/Is_that_YAGOO_Clip_6.mp4...\n",
            "Copying file:///content/sample/First_event_and_hopes/First_event_and_hopes_Clip_3.mp4...\n",
            "Copying file:///content/sample/First_event_and_hopes/First_event_and_hopes_Clip_2.mp4...\n",
            "Copying file:///content/sample/First_event_and_hopes/First_event_and_hopes_Clip_6.mp4...\n",
            "Copying file:///content/sample/First_event_and_hopes/First_event_and_hopes_Clip_7.mp4...\n",
            "Copying file:///content/sample/First_event_and_hopes/First_event_and_hopes_Clip_1.mp4...\n",
            "Copying file:///content/sample/First_event_and_hopes/First_event_and_hopes_Clip_5.mp4...\n",
            "Copying file:///content/sample/First_event_and_hopes/First_event_and_hopes_Clip_4.mp4...\n",
            "Copying file:///content/sample/Miyabi_and_Rikka_cant_catch_butterfly_on_AC/Miyabi_and_Rikka_cant_catch_butterfly_on_AC_Clip_3.mp4...\n",
            "Copying file:///content/sample/Miyabi_and_Rikka_cant_catch_butterfly_on_AC/Miyabi_and_Rikka_cant_catch_butterfly_on_AC_Clip_2.mp4...\n",
            "Copying file:///content/sample/Miyabi_and_Rikka_cant_catch_butterfly_on_AC/Miyabi_and_Rikka_cant_catch_butterfly_on_AC_Clip_1.mp4...\n",
            "Copying file:///content/sample/Konnichiwa_kills/Konnichiwa_kills_Clip_1.mp4...\n",
            "Copying file:///content/sample/Miyabi_is_scared_by_the_manager/Miyabi_is_scared_by_the_manager_Clip_1.mp4...\n",
            "Copying file:///content/sample/Miyabi_at_his_limit_using_push_up_roller/Miyabi_at_his_limit_using_push_up_roller_Clip_2.mp4...\n",
            "Copying file:///content/sample/Miyabi_at_his_limit_using_push_up_roller/Miyabi_at_his_limit_using_push_up_roller_Clip_1.mp4...\n",
            "Copying file:///content/sample/Miyabis_is_a_human/Miyabis_is_a_human_Clip_1.mp4...\n",
            "Copying file:///content/sample/senpais_screaming/senpais_screaming_Clip_2.mp4...\n",
            "Copying file:///content/sample/senpais_screaming/senpais_screaming_Clip_1.mp4...\n",
            "Copying file:///content/sample/20K/20K_Clip_1.mp4...\n",
            "Copying file:///content/sample/Miyabi_Summer_Clothes_Reveal/Miyabi_Summer_Clothes_Reveal_Clip_3.mp4...\n",
            "Copying file:///content/sample/Miyabi_Summer_Clothes_Reveal/Miyabi_Summer_Clothes_Reveal_Clip_2.mp4...\n",
            "Copying file:///content/sample/Miyabi_Summer_Clothes_Reveal/Miyabi_Summer_Clothes_Reveal_Clip_1.mp4...\n",
            "Copying file:///content/sample/Miyabi_announcing_his_first_merchandise_Full_Graphic_Kyomu_Tshirt/Miyabi_announcing_his_first_merchandise_Full_Graphic_Kyomu_Tshirt_Clip_1.mp4...\n",
            "Copying file:///content/sample/Miyabi_Hanasaki_Ultimate_Legend_/Miyabi_Hanasaki_Ultimate_Legend__Clip_1.mp4...\n",
            "Copying file:///content/sample/Miyabi_White_Day_Outfit/Miyabi_White_Day_Outfit_Clip_1.mp4...\n",
            "Copying file:///content/sample/Miyabi_White_Day_Outfit/Miyabi_White_Day_Outfit_Clip_2.mp4...\n",
            "Copying file:///content/sample/Miyabi_White_Day_Outfit/Miyabi_White_Day_Outfit_Clip_3.mp4...\n",
            "Copying file:///content/sample/Miyabis_Jabu_noises/Miyabis_Jabu_noises_Clip_1.mp4...\n",
            "Copying file:///content/sample/Accidentically_riding_seagull/Accidentically_riding_seagull_Clip_1.mp4...\n",
            "\\ [48 files][141.0 MiB/141.0 MiB]                                               \n",
            "==> NOTE: You are performing a sequence of gsutil operations that may\n",
            "run significantly faster if you instead use gsutil -m cp ... Please\n",
            "see the -m section under \"gsutil help options\" for further information\n",
            "about when gsutil -m can be advantageous.\n",
            "\n",
            "\n",
            "Operation completed over 48 objects/141.0 MiB.                                   \n"
          ],
          "name": "stdout"
        }
      ]
    },
    {
      "cell_type": "markdown",
      "metadata": {
        "id": "VTrpKd2Qx8jF"
      },
      "source": [
        "## Create Black Screen Videos"
      ]
    },
    {
      "cell_type": "markdown",
      "metadata": {
        "id": "3h-vt8cayOrM"
      },
      "source": [
        "root_folder"
      ]
    },
    {
      "cell_type": "code",
      "metadata": {
        "id": "Sdox4sRzx75c"
      },
      "source": [
        "multipleclips_folders_list = [folder for folder in df[\"folder\"].unique() if len(os.listdir(os.path.join(root_folder, folder))) > 1]\n",
        "multipleclips_folders_output = list(df[df['folder'].isin(multipleclips_folders_list)][\"Filename\"].unique())\n",
        "singleclips_folders_list = [folder for folder in df[\"folder\"].unique() if len(os.listdir(os.path.join(root_folder, folder))) == 1]\n",
        "singleclips_folders_output = list(df[df['folder'].isin(singleclips_folders_list)][\"Filename\"].unique())\n",
        "black_files_list = [os.path.join(root_folder, folder, file).replace(\".mp4\",\"andblack.mp4\").replace(\" \", \"\\ \") for folder in df[\"folder\"].unique() for file in os.listdir(os.path.join(root_folder, folder)) if len(os.listdir(os.path.join(root_folder, folder))) > 0]\n",
        "files_list = [file.replace(\" \", \"\\ \") for folder in df[\"folder\"].unique() for file in os.listdir(os.path.join(root_folder, folder)) if len(os.listdir(os.path.join(root_folder, folder))) > 0]\n",
        "files_list"
      ],
      "execution_count": null,
      "outputs": []
    },
    {
      "cell_type": "code",
      "metadata": {
        "id": "li8WWPAxDsGX"
      },
      "source": [
        "for file in files_list[:6]:\n",
        "    os.environ[\"FILE\"] = file\n",
        "    os.environ[\"NEW_FILE\"] = file.replace(\".mp4\", \"_new.mp4\")\n",
        "    !ffmpeg -i \"$FILE\" \"$NEW_FILE\""
      ],
      "execution_count": null,
      "outputs": []
    },
    {
      "cell_type": "code",
      "metadata": {
        "id": "HvqqOTeEyYN4"
      },
      "source": [
        "for file in black_files_list[:6]:\n",
        "    # !ffmpeg -f lavfi -i color=black:s=1920x1080:r=24000/1001 -f lavfi -i anullsrc -ar 44100 -ac 128 -t 3 $file\n",
        "    !ffmpeg -y -f lavfi -i color=c=black:s=1920x1080:d=3 -f lavfi -i aevalsrc=0:c=2:d=3 $file\n",
        "    # !ffmpeg -f lavfi -i color=c=black:s=640x480:d=2 -f lavfi -i aevalsrc=0:c=2:d=2 black_screen_video.mp4"
      ],
      "execution_count": null,
      "outputs": []
    },
    {
      "cell_type": "markdown",
      "metadata": {
        "id": "v1qY8ArZNpiT"
      },
      "source": [
        "## Merge Videos"
      ]
    },
    {
      "cell_type": "code",
      "metadata": {
        "colab": {
          "base_uri": "https://localhost:8080/"
        },
        "id": "yGalzUKDOhRl",
        "outputId": "078d376a-0471-4473-b502-675f513fd71e"
      },
      "source": [
        "%cd /content/drive/My\\ Drive/Master\\ Assets/Stars\\ Gen\\ 1/Miyabi/Raw\\ Clips/old/Miyabis_is_a_human\n",
        "!pwd\n",
        "# !for f in ./*.mp4; do echo \"file '$f'\" >> mylist.txt; done\n",
        "# !ffmpeg -y -f concat -safe 0 -i mylist.txt Clip16.mkv\n",
        "!ffmpeg -i Clip13.mp4 -codec copy Clip13.mkv\n",
        "\n",
        "# for folder in multipleclips_folders_list[:1]:\n",
        "#     os.environ[\"FOLDER\"] = folder\n",
        "#     %cd /content/drive/My\\ Drive/Master\\ Assets/Stars\\ Gen\\ 1/Miyabi/Raw\\ Clips/$folder\n",
        "#     !pwd\n",
        "#     !for f in ./*.mp4; do echo \"file '$f'\" >> mylist.txt; done"
      ],
      "execution_count": null,
      "outputs": [
        {
          "output_type": "stream",
          "text": [
            "/content/drive/.shortcut-targets-by-id/113/Master Assets/Stars Gen 1/Miyabi/Raw Clips/old/Miyabis_is_a_human\n",
            "/content/drive/.shortcut-targets-by-id/113/Master Assets/Stars Gen 1/Miyabi/Raw Clips/old/Miyabis_is_a_human\n",
            "ffmpeg version 3.4.8-0ubuntu0.2 Copyright (c) 2000-2020 the FFmpeg developers\n",
            "  built with gcc 7 (Ubuntu 7.5.0-3ubuntu1~18.04)\n",
            "  configuration: --prefix=/usr --extra-version=0ubuntu0.2 --toolchain=hardened --libdir=/usr/lib/x86_64-linux-gnu --incdir=/usr/include/x86_64-linux-gnu --enable-gpl --disable-stripping --enable-avresample --enable-avisynth --enable-gnutls --enable-ladspa --enable-libass --enable-libbluray --enable-libbs2b --enable-libcaca --enable-libcdio --enable-libflite --enable-libfontconfig --enable-libfreetype --enable-libfribidi --enable-libgme --enable-libgsm --enable-libmp3lame --enable-libmysofa --enable-libopenjpeg --enable-libopenmpt --enable-libopus --enable-libpulse --enable-librubberband --enable-librsvg --enable-libshine --enable-libsnappy --enable-libsoxr --enable-libspeex --enable-libssh --enable-libtheora --enable-libtwolame --enable-libvorbis --enable-libvpx --enable-libwavpack --enable-libwebp --enable-libx265 --enable-libxml2 --enable-libxvid --enable-libzmq --enable-libzvbi --enable-omx --enable-openal --enable-opengl --enable-sdl2 --enable-libdc1394 --enable-libdrm --enable-libiec61883 --enable-chromaprint --enable-frei0r --enable-libopencv --enable-libx264 --enable-shared\n",
            "  libavutil      55. 78.100 / 55. 78.100\n",
            "  libavcodec     57.107.100 / 57.107.100\n",
            "  libavformat    57. 83.100 / 57. 83.100\n",
            "  libavdevice    57. 10.100 / 57. 10.100\n",
            "  libavfilter     6.107.100 /  6.107.100\n",
            "  libavresample   3.  7.  0 /  3.  7.  0\n",
            "  libswscale      4.  8.100 /  4.  8.100\n",
            "  libswresample   2.  9.100 /  2.  9.100\n",
            "  libpostproc    54.  7.100 / 54.  7.100\n",
            "Input #0, mov,mp4,m4a,3gp,3g2,mj2, from 'Miyabis_is_a_human_Clip1.mp4':\n",
            "  Metadata:\n",
            "    major_brand     : isom\n",
            "    minor_version   : 512\n",
            "    compatible_brands: isomiso2avc1mp41\n",
            "    encoder         : Lavf57.83.100\n",
            "  Duration: 00:00:19.02, start: 0.000000, bitrate: 2039 kb/s\n",
            "    Stream #0:0(eng): Video: h264 (High) (avc1 / 0x31637661), yuv420p, 1920x1080 [SAR 1:1 DAR 16:9], 1895 kb/s, 60 fps, 60 tbr, 15360 tbn, 120 tbc (default)\n",
            "    Metadata:\n",
            "      handler_name    : VideoHandler\n",
            "    Stream #0:1(eng): Audio: aac (LC) (mp4a / 0x6134706D), 48000 Hz, stereo, fltp, 132 kb/s (default)\n",
            "    Metadata:\n",
            "      handler_name    : SoundHandler\n",
            "Output #0, matroska, to 'Clip13.mkv':\n",
            "  Metadata:\n",
            "    major_brand     : isom\n",
            "    minor_version   : 512\n",
            "    compatible_brands: isomiso2avc1mp41\n",
            "    encoder         : Lavf57.83.100\n",
            "    Stream #0:0(eng): Video: h264 (High) (avc1 / 0x31637661), yuv420p, 1920x1080 [SAR 1:1 DAR 16:9], q=2-31, 1895 kb/s, 60 fps, 60 tbr, 1k tbn, 15360 tbc (default)\n",
            "    Metadata:\n",
            "      handler_name    : VideoHandler\n",
            "    Stream #0:1(eng): Audio: aac (LC) ([255][0][0][0] / 0x00FF), 48000 Hz, stereo, fltp, 132 kb/s (default)\n",
            "    Metadata:\n",
            "      handler_name    : SoundHandler\n",
            "Stream mapping:\n",
            "  Stream #0:0 -> #0:0 (copy)\n",
            "  Stream #0:1 -> #0:1 (copy)\n",
            "Press [q] to stop, [?] for help\n",
            "frame= 1140 fps=0.0 q=-1.0 Lsize=    4720kB time=00:00:18.98 bitrate=2036.6kbits/s speed= 447x    \n",
            "video:4397kB audio:308kB subtitle:0kB other streams:0kB global headers:0kB muxing overhead: 0.321936%\n"
          ],
          "name": "stdout"
        }
      ]
    },
    {
      "cell_type": "code",
      "metadata": {
        "id": "ZASgikyo5A5V"
      },
      "source": [
        "for folder, file in zip(multipleclips_folders_list[:1], multipleclips_folders_output[:1]):\n",
        "    os.environ[\"FILE\"] = file+\".mkv\"\n",
        "    os.environ[\"FOLDER\"] = folder\n",
        "    %cd /content/drive/My\\ Drive/Master\\ Assets/Stars\\ Gen\\ 1/Miyabi/Raw\\ Clips/$folder\n",
        "    !pwd\n",
        "    !ffmpeg -y -f concat -safe 0 -i mylist.txt \"$FILE\""
      ],
      "execution_count": null,
      "outputs": []
    },
    {
      "cell_type": "markdown",
      "metadata": {
        "id": "u8j6iUkG_Slw"
      },
      "source": [
        "### Extra code"
      ]
    },
    {
      "cell_type": "code",
      "metadata": {
        "id": "l-eGfHd64JWq"
      },
      "source": [
        "!ffmpeg -f lavfi -i color=size=1280x720:rate=1187:color=black -f lavfi -i anullsrc=channel_layout=stereo:sample_rate=48000 -t 3 Is_that_YAGOO_Clip1_black.mp4"
      ],
      "execution_count": null,
      "outputs": []
    },
    {
      "cell_type": "code",
      "metadata": {
        "id": "ONQ0cJ3IPr5q"
      },
      "source": [
        "!ffmpeg -f concat -safe 0 -i mylist.txt -c copy clip1.mkv"
      ],
      "execution_count": null,
      "outputs": []
    },
    {
      "cell_type": "code",
      "metadata": {
        "colab": {
          "base_uri": "https://localhost:8080/"
        },
        "id": "w3D1eRQGaALZ",
        "outputId": "49f30c71-eab9-4f68-cf7a-1109f92aa92c"
      },
      "source": [
        "!ffprobe Is_that_YAGOO_Clip1_black.mp4"
      ],
      "execution_count": null,
      "outputs": [
        {
          "output_type": "stream",
          "text": [
            "ffprobe version 3.4.8-0ubuntu0.2 Copyright (c) 2007-2020 the FFmpeg developers\n",
            "  built with gcc 7 (Ubuntu 7.5.0-3ubuntu1~18.04)\n",
            "  configuration: --prefix=/usr --extra-version=0ubuntu0.2 --toolchain=hardened --libdir=/usr/lib/x86_64-linux-gnu --incdir=/usr/include/x86_64-linux-gnu --enable-gpl --disable-stripping --enable-avresample --enable-avisynth --enable-gnutls --enable-ladspa --enable-libass --enable-libbluray --enable-libbs2b --enable-libcaca --enable-libcdio --enable-libflite --enable-libfontconfig --enable-libfreetype --enable-libfribidi --enable-libgme --enable-libgsm --enable-libmp3lame --enable-libmysofa --enable-libopenjpeg --enable-libopenmpt --enable-libopus --enable-libpulse --enable-librubberband --enable-librsvg --enable-libshine --enable-libsnappy --enable-libsoxr --enable-libspeex --enable-libssh --enable-libtheora --enable-libtwolame --enable-libvorbis --enable-libvpx --enable-libwavpack --enable-libwebp --enable-libx265 --enable-libxml2 --enable-libxvid --enable-libzmq --enable-libzvbi --enable-omx --enable-openal --enable-opengl --enable-sdl2 --enable-libdc1394 --enable-libdrm --enable-libiec61883 --enable-chromaprint --enable-frei0r --enable-libopencv --enable-libx264 --enable-shared\n",
            "  libavutil      55. 78.100 / 55. 78.100\n",
            "  libavcodec     57.107.100 / 57.107.100\n",
            "  libavformat    57. 83.100 / 57. 83.100\n",
            "  libavdevice    57. 10.100 / 57. 10.100\n",
            "  libavfilter     6.107.100 /  6.107.100\n",
            "  libavresample   3.  7.  0 /  3.  7.  0\n",
            "  libswscale      4.  8.100 /  4.  8.100\n",
            "  libswresample   2.  9.100 /  2.  9.100\n",
            "  libpostproc    54.  7.100 / 54.  7.100\n",
            "Input #0, mov,mp4,m4a,3gp,3g2,mj2, from 'Is_that_YAGOO_Clip1_black.mp4':\n",
            "  Metadata:\n",
            "    major_brand     : isom\n",
            "    minor_version   : 512\n",
            "    compatible_brands: isomiso2avc1mp41\n",
            "    encoder         : Lavf57.83.100\n",
            "  Duration: 00:00:03.02, start: 0.000000, bitrate: 28 kb/s\n",
            "    Stream #0:0(und): Video: h264 (High) (avc1 / 0x31637661), yuv420p, 1920x1080 [SAR 1:1 DAR 16:9], 16 kb/s, 23.98 fps, 23.98 tbr, 24k tbn, 47.95 tbc (default)\n",
            "    Metadata:\n",
            "      handler_name    : VideoHandler\n",
            "    Stream #0:1(und): Audio: aac (LC) (mp4a / 0x6134706D), 44100 Hz, stereo, fltp, 2 kb/s (default)\n",
            "    Metadata:\n",
            "      handler_name    : SoundHandler\n"
          ],
          "name": "stdout"
        }
      ]
    },
    {
      "cell_type": "code",
      "metadata": {
        "colab": {
          "base_uri": "https://localhost:8080/"
        },
        "id": "PyiDXAmqLUao",
        "outputId": "3fcbe43f-0894-4b2c-ec02-f80ba204c370"
      },
      "source": [
        "!ffprobe Is_that_YAGOO_Clip1.mp4"
      ],
      "execution_count": null,
      "outputs": [
        {
          "output_type": "stream",
          "text": [
            "ffprobe version 3.4.8-0ubuntu0.2 Copyright (c) 2007-2020 the FFmpeg developers\n",
            "  built with gcc 7 (Ubuntu 7.5.0-3ubuntu1~18.04)\n",
            "  configuration: --prefix=/usr --extra-version=0ubuntu0.2 --toolchain=hardened --libdir=/usr/lib/x86_64-linux-gnu --incdir=/usr/include/x86_64-linux-gnu --enable-gpl --disable-stripping --enable-avresample --enable-avisynth --enable-gnutls --enable-ladspa --enable-libass --enable-libbluray --enable-libbs2b --enable-libcaca --enable-libcdio --enable-libflite --enable-libfontconfig --enable-libfreetype --enable-libfribidi --enable-libgme --enable-libgsm --enable-libmp3lame --enable-libmysofa --enable-libopenjpeg --enable-libopenmpt --enable-libopus --enable-libpulse --enable-librubberband --enable-librsvg --enable-libshine --enable-libsnappy --enable-libsoxr --enable-libspeex --enable-libssh --enable-libtheora --enable-libtwolame --enable-libvorbis --enable-libvpx --enable-libwavpack --enable-libwebp --enable-libx265 --enable-libxml2 --enable-libxvid --enable-libzmq --enable-libzvbi --enable-omx --enable-openal --enable-opengl --enable-sdl2 --enable-libdc1394 --enable-libdrm --enable-libiec61883 --enable-chromaprint --enable-frei0r --enable-libopencv --enable-libx264 --enable-shared\n",
            "  libavutil      55. 78.100 / 55. 78.100\n",
            "  libavcodec     57.107.100 / 57.107.100\n",
            "  libavformat    57. 83.100 / 57. 83.100\n",
            "  libavdevice    57. 10.100 / 57. 10.100\n",
            "  libavfilter     6.107.100 /  6.107.100\n",
            "  libavresample   3.  7.  0 /  3.  7.  0\n",
            "  libswscale      4.  8.100 /  4.  8.100\n",
            "  libswresample   2.  9.100 /  2.  9.100\n",
            "  libpostproc    54.  7.100 / 54.  7.100\n",
            "Input #0, mov,mp4,m4a,3gp,3g2,mj2, from 'Is_that_YAGOO_Clip1.mp4':\n",
            "  Metadata:\n",
            "    major_brand     : isom\n",
            "    minor_version   : 512\n",
            "    compatible_brands: isomiso2avc1mp41\n",
            "    encoder         : Lavf57.83.100\n",
            "  Duration: 00:00:16.02, start: 0.000000, bitrate: 1187 kb/s\n",
            "    Stream #0:0(und): Video: h264 (High) (avc1 / 0x31637661), yuv420p, 1920x1080 [SAR 1:1 DAR 16:9], 1046 kb/s, 30 fps, 30 tbr, 15360 tbn, 60 tbc (default)\n",
            "    Metadata:\n",
            "      handler_name    : VideoHandler\n",
            "    Stream #0:1(eng): Audio: aac (LC) (mp4a / 0x6134706D), 48000 Hz, stereo, fltp, 132 kb/s (default)\n",
            "    Metadata:\n",
            "      handler_name    : SoundHandler\n"
          ],
          "name": "stdout"
        }
      ]
    },
    {
      "cell_type": "code",
      "metadata": {
        "colab": {
          "base_uri": "https://localhost:8080/"
        },
        "id": "iMYJ0wjckzyb",
        "outputId": "415cbabd-43cd-4745-80c0-a60dbbb90352"
      },
      "source": [
        "!curl https://temp-clipping-tool.vercel.app/api/colab/eyJ1cmwiOiJodHRwczovL3d3dy55b3V0dWJlLmNvbS93YXRjaD92PS14UjVBbW10VXI0IiwidGltZXN0YW1wcyI6IlsxMToyNy0xMTo0MF0sWzExOjUxLTExOjU1XSIsIm91dHB1dCI6Ii1jOnYgbGlieDI2NCAtYzphIGFhYyAtcGl4X2ZtdCB5dXY0MjBwIG91dHB1dC5ta3YifQ%3D%3D | bash"
      ],
      "execution_count": null,
      "outputs": [
        {
          "output_type": "stream",
          "text": [
            "  % Total    % Received % Xferd  Average Speed   Time    Time     Time  Current\n",
            "                                 Dload  Upload   Total   Spent    Left  Speed\n",
            "100   836  100   836    0     0    368      0  0:00:02  0:00:02 --:--:--   368\n",
            "--2020-11-11 13:54:36--  http://youtube-dl.org/downloads/latest/youtube-dl\n",
            "Resolving youtube-dl.org (youtube-dl.org)... 95.143.172.170, 2001:1a50:11:0:5f:8f:acaa:177\n",
            "Connecting to youtube-dl.org (youtube-dl.org)|95.143.172.170|:80... connected.\n",
            "HTTP request sent, awaiting response... 302 Found\n",
            "Location: http://youtube-dl.org/downloads/2020.11.01.1/youtube-dl [following]\n",
            "--2020-11-11 13:54:37--  http://youtube-dl.org/downloads/2020.11.01.1/youtube-dl\n",
            "Connecting to youtube-dl.org (youtube-dl.org)|95.143.172.170|:80... connected.\n",
            "HTTP request sent, awaiting response... 302 Found\n",
            "Location: https://gitlab.com/dstftw/youtube-dl/uploads/7c81fe65744e2304de741d54f989093a/youtube-dl [following]\n",
            "--2020-11-11 13:54:37--  https://gitlab.com/dstftw/youtube-dl/uploads/7c81fe65744e2304de741d54f989093a/youtube-dl\n",
            "Resolving gitlab.com (gitlab.com)... 172.65.251.78, 2606:4700:90:0:f22e:fbec:5bed:a9b9\n",
            "Connecting to gitlab.com (gitlab.com)|172.65.251.78|:443... connected.\n",
            "HTTP request sent, awaiting response... 200 OK\n",
            "Length: 1761954 (1.7M) [application/octet-stream]\n",
            "Saving to: ‘/usr/bin/youtube-dl’\n",
            "\n",
            "/usr/bin/youtube-dl 100%[===================>]   1.68M  --.-KB/s    in 0.08s   \n",
            "\n",
            "2020-11-11 13:54:38 (20.9 MB/s) - ‘/usr/bin/youtube-dl’ saved [1761954/1761954]\n",
            "\n",
            "ffmpeg version 3.4.8-0ubuntu0.2 Copyright (c) 2000-2020 the FFmpeg developers\n",
            "  built with gcc 7 (Ubuntu 7.5.0-3ubuntu1~18.04)\n",
            "  configuration: --prefix=/usr --extra-version=0ubuntu0.2 --toolchain=hardened --libdir=/usr/lib/x86_64-linux-gnu --incdir=/usr/include/x86_64-linux-gnu --enable-gpl --disable-stripping --enable-avresample --enable-avisynth --enable-gnutls --enable-ladspa --enable-libass --enable-libbluray --enable-libbs2b --enable-libcaca --enable-libcdio --enable-libflite --enable-libfontconfig --enable-libfreetype --enable-libfribidi --enable-libgme --enable-libgsm --enable-libmp3lame --enable-libmysofa --enable-libopenjpeg --enable-libopenmpt --enable-libopus --enable-libpulse --enable-librubberband --enable-librsvg --enable-libshine --enable-libsnappy --enable-libsoxr --enable-libspeex --enable-libssh --enable-libtheora --enable-libtwolame --enable-libvorbis --enable-libvpx --enable-libwavpack --enable-libwebp --enable-libx265 --enable-libxml2 --enable-libxvid --enable-libzmq --enable-libzvbi --enable-omx --enable-openal --enable-opengl --enable-sdl2 --enable-libdc1394 --enable-libdrm --enable-libiec61883 --enable-chromaprint --enable-frei0r --enable-libopencv --enable-libx264 --enable-shared\n",
            "  libavutil      55. 78.100 / 55. 78.100\n",
            "  libavcodec     57.107.100 / 57.107.100\n",
            "  libavformat    57. 83.100 / 57. 83.100\n",
            "  libavdevice    57. 10.100 / 57. 10.100\n",
            "  libavfilter     6.107.100 /  6.107.100\n",
            "  libavresample   3.  7.  0 /  3.  7.  0\n",
            "  libswscale      4.  8.100 /  4.  8.100\n",
            "  libswresample   2.  9.100 /  2.  9.100\n",
            "  libpostproc    54.  7.100 / 54.  7.100\n",
            "Input #0, mov,mp4,m4a,3gp,3g2,mj2, from 'https://r6---sn-5uaezn6r.googlevideo.com/videoplayback?expire=1605124480&ei=IO2rX4GmAYW-hwaW2pfoDA&ip=34.74.157.128&id=o-AERGFJ0v1jq3hCFFEAfRo0vFlY340NObM5uqDB6uGa5t&itag=299&aitags=133%2C134%2C135%2C136%2C160%2C242%2C243%2C244%2C247%2C278%2C298%2C299%2C302%2C303&source=youtube&requiressl=yes&mh=2B&mm=31%2C26&mn=sn-5uaezn6r%2Csn-qxa7sn7z&ms=au%2Conr&mv=m&mvi=6&pl=20&initcwndbps=5330000&vprv=1&mime=video%2Fmp4&gir=yes&clen=1521058622&dur=3771.466&lmt=1578739086799592&mt=1605102760&fvip=6&keepalive=yes&beids=9466587&c=WEB&txp=7316222&sparams=expire%2Cei%2Cip%2Cid%2Caitags%2Csource%2Crequiressl%2Cvprv%2Cmime%2Cgir%2Cclen%2Cdur%2Clmt&sig=AOq0QJ8wRgIhAM3KKM7GDI4fOyJSYB91CX9j6PxujpUxcEfFSF8pU077AiEAkw3k8VfrMPLkBfdSDEgbYZjISYUBfizfEhBTgBoO1vQ%3D&lsparams=mh%2Cmm%2Cmn%2Cms%2Cmv%2Cmvi%2Cpl%2Cinitcwndbps&lsig=AG3C_xAwRgIhALMOeLpdmDMNNGA-o_1GNf8rjWh_VwiQSlg5g-rOlkFfAiEAgQEKsSHu_1m7g0Qq0gcbvmkOqRVSx8kVJhATzyJplfA%3D&ratebypass=yes':\n",
            "  Metadata:\n",
            "    major_brand     : dash\n",
            "    minor_version   : 0\n",
            "    compatible_brands: iso6avc1mp41\n",
            "    creation_time   : 2020-01-11T10:38:09.000000Z\n",
            "  Duration: 01:02:51.47, start: 0.000000, bitrate: 3226 kb/s\n",
            "    Stream #0:0(und): Video: h264 (High) (avc1 / 0x31637661), yuv420p(tv, bt470bg/bt709/bt709, progressive), 1920x1080 [SAR 1:1 DAR 16:9], 1 kb/s, 60 fps, 60 tbr, 15360 tbn, 120 tbc (default)\n",
            "    Metadata:\n",
            "      creation_time   : 2020-01-11T10:38:09.000000Z\n",
            "      handler_name    : ISO Media file produced by Google Inc.\n",
            "Input #1, matroska,webm, from 'https://r6---sn-5uaezn6r.googlevideo.com/videoplayback?expire=1605124480&ei=IO2rX4GmAYW-hwaW2pfoDA&ip=34.74.157.128&id=o-AERGFJ0v1jq3hCFFEAfRo0vFlY340NObM5uqDB6uGa5t&itag=251&source=youtube&requiressl=yes&mh=2B&mm=31%2C26&mn=sn-5uaezn6r%2Csn-qxa7sn7z&ms=au%2Conr&mv=m&mvi=6&pl=20&initcwndbps=5330000&vprv=1&mime=audio%2Fwebm&gir=yes&clen=55694807&dur=3771.501&lmt=1578753160737230&mt=1605102760&fvip=6&keepalive=yes&beids=9466587&c=WEB&txp=7301222&sparams=expire%2Cei%2Cip%2Cid%2Citag%2Csource%2Crequiressl%2Cvprv%2Cmime%2Cgir%2Cclen%2Cdur%2Clmt&sig=AOq0QJ8wRQIgMpiIVVubUbfL_nS8dxPqwy0O1SddLibPp5WLq7x1HjcCIQDSso_zq6adYGhFZbIL2d6XQuS8v5MSi451flWBACmPxA%3D%3D&lsparams=mh%2Cmm%2Cmn%2Cms%2Cmv%2Cmvi%2Cpl%2Cinitcwndbps&lsig=AG3C_xAwRgIhALMOeLpdmDMNNGA-o_1GNf8rjWh_VwiQSlg5g-rOlkFfAiEAgQEKsSHu_1m7g0Qq0gcbvmkOqRVSx8kVJhATzyJplfA%3D&ratebypass=yes':\n",
            "  Metadata:\n",
            "    encoder         : google/video-file\n",
            "  Duration: 01:02:51.50, start: -0.007000, bitrate: 118 kb/s\n",
            "    Stream #1:0(eng): Audio: opus, 48000 Hz, stereo, fltp (default)\n",
            "Input #2, lavfi, from 'color=c=black:s=1920x1080:r=60:d=3':\n",
            "  Duration: N/A, start: 0.000000, bitrate: N/A\n",
            "    Stream #2:0: Video: rawvideo (I420 / 0x30323449), yuv420p, 1920x1080 [SAR 1:1 DAR 16:9], 60 tbr, 60 tbn, 60 tbc\n",
            "Input #3, lavfi, from 'anullsrc=cl=stereo:r=44100':\n",
            "  Duration: N/A, start: 0.000000, bitrate: 705 kb/s\n",
            "    Stream #3:0: Audio: pcm_u8, 44100 Hz, stereo, u8, 705 kb/s\n",
            "Stream mapping:\n",
            "  Stream #0:0 (h264) -> split\n",
            "  Stream #1:0 (opus) -> asplit\n",
            "  Stream #2:0 (rawvideo) -> split\n",
            "  Stream #3:0 (pcm_u8) -> atrim\n",
            "  concat:out:v0 -> Stream #0:0 (libx264)\n",
            "  concat:out:a0 -> Stream #0:1 (aac)\n",
            "Press [q] to stop, [?] for help\n",
            "\u001b[1;36m[libx264 @ 0x55ff1d81b200] \u001b[0musing SAR=1/1\n",
            "\u001b[1;36m[libx264 @ 0x55ff1d81b200] \u001b[0musing cpu capabilities: MMX2 SSE2Fast SSSE3 SSE4.2 AVX FMA3 BMI2 AVX2\n",
            "\u001b[1;36m[libx264 @ 0x55ff1d81b200] \u001b[0mprofile High, level 4.2\n",
            "\u001b[1;36m[libx264 @ 0x55ff1d81b200] \u001b[0m264 - core 152 r2854 e9a5903 - H.264/MPEG-4 AVC codec - Copyleft 2003-2017 - http://www.videolan.org/x264.html - options: cabac=1 ref=3 deblock=1:0:0 analyse=0x3:0x113 me=hex subme=7 psy=1 psy_rd=1.00:0.00 mixed_ref=1 me_range=16 chroma_me=1 trellis=1 8x8dct=1 cqm=0 deadzone=21,11 fast_pskip=1 chroma_qp_offset=-2 threads=3 lookahead_threads=1 sliced_threads=0 nr=0 decimate=1 interlaced=0 bluray_compat=0 constrained_intra=0 bframes=3 b_pyramid=2 b_adapt=1 b_bias=0 direct=1 weightb=1 open_gop=0 weightp=2 keyint=250 keyint_min=25 scenecut=40 intra_refresh=0 rc_lookahead=40 rc=crf mbtree=1 crf=23.0 qcomp=0.60 qpmin=0 qpmax=69 qpstep=4 ip_ratio=1.40 aq=1:1.00\n",
            "Output #0, matroska, to 'output.mkv':\n",
            "  Metadata:\n",
            "    major_brand     : dash\n",
            "    minor_version   : 0\n",
            "    compatible_brands: iso6avc1mp41\n",
            "    encoder         : Lavf57.83.100\n",
            "    Stream #0:0: Video: h264 (libx264) (H264 / 0x34363248), yuv420p, 1920x1080 [SAR 1:1 DAR 16:9], q=-1--1, 60 fps, 1k tbn, 60 tbc (default)\n",
            "    Metadata:\n",
            "      encoder         : Lavc57.107.100 libx264\n",
            "    Side data:\n",
            "      cpb: bitrate max/min/avg: 0/0/0 buffer size: 0 vbv_delay: -1\n",
            "    Stream #0:1: Audio: aac (LC) ([255][0][0][0] / 0x00FF), 48000 Hz, stereo, fltp, 128 kb/s (default)\n",
            "    Metadata:\n",
            "      encoder         : Lavc57.107.100 aac\n",
            "\u001b[1;32m[Parsed_color_0 @ 0x55ff1d77f200] \u001b[0m\u001b[0;33mEOF timestamp not reliable\n",
            "frame= 1200 fps=2.3 q=-1.0 Lsize=    9097kB time=00:00:20.01 bitrate=3724.2kbits/s speed=0.0385x    \n",
            "video:8811kB audio:270kB subtitle:0kB other streams:0kB global headers:0kB muxing overhead: 0.172651%\n",
            "\u001b[1;36m[libx264 @ 0x55ff1d81b200] \u001b[0mframe I:5     Avg QP:19.56  size:125019\n",
            "\u001b[1;36m[libx264 @ 0x55ff1d81b200] \u001b[0mframe P:318   Avg QP:21.47  size: 14219\n",
            "\u001b[1;36m[libx264 @ 0x55ff1d81b200] \u001b[0mframe B:877   Avg QP:25.89  size:  4419\n",
            "\u001b[1;36m[libx264 @ 0x55ff1d81b200] \u001b[0mconsecutive B-frames:  1.4%  3.0%  1.2% 94.3%\n",
            "\u001b[1;36m[libx264 @ 0x55ff1d81b200] \u001b[0mmb I  I16..4: 23.6% 49.6% 26.8%\n",
            "\u001b[1;36m[libx264 @ 0x55ff1d81b200] \u001b[0mmb P  I16..4:  6.0%  6.8%  1.0%  P16..4: 17.5%  3.6%  1.9%  0.0%  0.0%    skip:63.1%\n",
            "\u001b[1;36m[libx264 @ 0x55ff1d81b200] \u001b[0mmb B  I16..4:  1.0%  0.9%  0.2%  B16..8: 15.4%  1.3%  0.3%  direct: 0.7%  skip:80.2%  L0:46.2% L1:51.5% BI: 2.3%\n",
            "\u001b[1;36m[libx264 @ 0x55ff1d81b200] \u001b[0m8x8 transform intra:46.8% inter:76.8%\n",
            "\u001b[1;36m[libx264 @ 0x55ff1d81b200] \u001b[0mcoded y,uvDC,uvAC intra: 22.9% 64.5% 17.0% inter: 2.7% 6.1% 0.4%\n",
            "\u001b[1;36m[libx264 @ 0x55ff1d81b200] \u001b[0mi16 v,h,dc,p: 21% 36% 12% 31%\n",
            "\u001b[1;36m[libx264 @ 0x55ff1d81b200] \u001b[0mi8 v,h,dc,ddl,ddr,vr,hd,vl,hu: 22% 21% 32%  4%  4%  4%  5%  4%  4%\n",
            "\u001b[1;36m[libx264 @ 0x55ff1d81b200] \u001b[0mi4 v,h,dc,ddl,ddr,vr,hd,vl,hu: 25% 21% 24%  5%  6%  5%  5%  4%  3%\n",
            "\u001b[1;36m[libx264 @ 0x55ff1d81b200] \u001b[0mi8c dc,h,v,p: 43% 29% 20%  8%\n",
            "\u001b[1;36m[libx264 @ 0x55ff1d81b200] \u001b[0mWeighted P-Frames: Y:1.9% UV:0.9%\n",
            "\u001b[1;36m[libx264 @ 0x55ff1d81b200] \u001b[0mref P L0: 63.3% 11.1% 17.3%  8.1%  0.2%\n",
            "\u001b[1;36m[libx264 @ 0x55ff1d81b200] \u001b[0mref B L0: 84.3% 12.5%  3.1%\n",
            "\u001b[1;36m[libx264 @ 0x55ff1d81b200] \u001b[0mref B L1: 93.9%  6.1%\n",
            "\u001b[1;36m[libx264 @ 0x55ff1d81b200] \u001b[0mkb/s:3608.86\n",
            "\u001b[1;36m[aac @ 0x55ff1da6c500] \u001b[0mQavg: 10438.514\n"
          ],
          "name": "stdout"
        }
      ]
    },
    {
      "cell_type": "code",
      "metadata": {
        "colab": {
          "base_uri": "https://localhost:8080/"
        },
        "id": "p_j68-vSpmNc",
        "outputId": "205b4391-f7d4-47a1-f6fb-08627a1e8a9c"
      },
      "source": [
        "!curl https://temp-clipping-tool.vercel.app/api/colab/eyJ1cmwiOiJodHRwczovL3d3dy55b3V0dWJlLmNvbS93YXRjaD92PS1OelEwdmdHY1JjIiwidGltZXN0YW1wcyI6IlsyOjE5LTI6MzNdIiwib3V0cHV0IjoiLWM6diBsaWJ4MjY0IC1jOmEgYWFjIC1waXhfZm10IHl1djQyMHAgY2xpcDYubWt2In0%3D | bash"
      ],
      "execution_count": null,
      "outputs": [
        {
          "output_type": "stream",
          "text": [
            "  % Total    % Received % Xferd  Average Speed   Time    Time     Time  Current\n",
            "                                 Dload  Upload   Total   Spent    Left  Speed\n",
            "100   645  100   645    0     0    479      0  0:00:01  0:00:01 --:--:--   479\n",
            "--2020-11-11 14:12:25--  http://youtube-dl.org/downloads/latest/youtube-dl\n",
            "Resolving youtube-dl.org (youtube-dl.org)... 95.143.172.170, 2001:1a50:11:0:5f:8f:acaa:177\n",
            "Connecting to youtube-dl.org (youtube-dl.org)|95.143.172.170|:80... connected.\n",
            "HTTP request sent, awaiting response... 302 Found\n",
            "Location: http://youtube-dl.org/downloads/2020.11.01.1/youtube-dl [following]\n",
            "--2020-11-11 14:12:25--  http://youtube-dl.org/downloads/2020.11.01.1/youtube-dl\n",
            "Connecting to youtube-dl.org (youtube-dl.org)|95.143.172.170|:80... connected.\n",
            "HTTP request sent, awaiting response... 302 Found\n",
            "Location: https://gitlab.com/dstftw/youtube-dl/uploads/7c81fe65744e2304de741d54f989093a/youtube-dl [following]\n",
            "--2020-11-11 14:12:25--  https://gitlab.com/dstftw/youtube-dl/uploads/7c81fe65744e2304de741d54f989093a/youtube-dl\n",
            "Resolving gitlab.com (gitlab.com)... 172.65.251.78, 2606:4700:90:0:f22e:fbec:5bed:a9b9\n",
            "Connecting to gitlab.com (gitlab.com)|172.65.251.78|:443... connected.\n",
            "HTTP request sent, awaiting response... 200 OK\n",
            "Length: 1761954 (1.7M) [application/octet-stream]\n",
            "Saving to: ‘/usr/bin/youtube-dl’\n",
            "\n",
            "/usr/bin/youtube-dl 100%[===================>]   1.68M  --.-KB/s    in 0.08s   \n",
            "\n",
            "2020-11-11 14:12:26 (21.8 MB/s) - ‘/usr/bin/youtube-dl’ saved [1761954/1761954]\n",
            "\n",
            "ffmpeg version 3.4.8-0ubuntu0.2 Copyright (c) 2000-2020 the FFmpeg developers\n",
            "  built with gcc 7 (Ubuntu 7.5.0-3ubuntu1~18.04)\n",
            "  configuration: --prefix=/usr --extra-version=0ubuntu0.2 --toolchain=hardened --libdir=/usr/lib/x86_64-linux-gnu --incdir=/usr/include/x86_64-linux-gnu --enable-gpl --disable-stripping --enable-avresample --enable-avisynth --enable-gnutls --enable-ladspa --enable-libass --enable-libbluray --enable-libbs2b --enable-libcaca --enable-libcdio --enable-libflite --enable-libfontconfig --enable-libfreetype --enable-libfribidi --enable-libgme --enable-libgsm --enable-libmp3lame --enable-libmysofa --enable-libopenjpeg --enable-libopenmpt --enable-libopus --enable-libpulse --enable-librubberband --enable-librsvg --enable-libshine --enable-libsnappy --enable-libsoxr --enable-libspeex --enable-libssh --enable-libtheora --enable-libtwolame --enable-libvorbis --enable-libvpx --enable-libwavpack --enable-libwebp --enable-libx265 --enable-libxml2 --enable-libxvid --enable-libzmq --enable-libzvbi --enable-omx --enable-openal --enable-opengl --enable-sdl2 --enable-libdc1394 --enable-libdrm --enable-libiec61883 --enable-chromaprint --enable-frei0r --enable-libopencv --enable-libx264 --enable-shared\n",
            "  libavutil      55. 78.100 / 55. 78.100\n",
            "  libavcodec     57.107.100 / 57.107.100\n",
            "  libavformat    57. 83.100 / 57. 83.100\n",
            "  libavdevice    57. 10.100 / 57. 10.100\n",
            "  libavfilter     6.107.100 /  6.107.100\n",
            "  libavresample   3.  7.  0 /  3.  7.  0\n",
            "  libswscale      4.  8.100 /  4.  8.100\n",
            "  libswresample   2.  9.100 /  2.  9.100\n",
            "  libpostproc    54.  7.100 / 54.  7.100\n",
            "Input #0, mov,mp4,m4a,3gp,3g2,mj2, from 'https://r5---sn-5ualdn7e.googlevideo.com/videoplayback?expire=1605125547&ei=SvGrX_GyNYS-hwb8jL_IDw&ip=34.74.157.128&id=o-AORtkPNIaizx5z8WpeoW2ckJExXXtgi8vqLYtqKVLGdq&itag=137&aitags=133%2C134%2C135%2C136%2C137%2C160%2C242%2C243%2C244%2C247%2C248%2C278&source=youtube&requiressl=yes&mh=Oj&mm=31%2C29&mn=sn-5ualdn7e%2Csn-5uaeznde&ms=au%2Crdu&mv=m&mvi=5&pl=20&initcwndbps=2931250&vprv=1&mime=video%2Fmp4&gir=yes&clen=633003146&dur=1803.566&lmt=1583308744864011&mt=1605103842&fvip=5&keepalive=yes&c=WEB&txp=2316222&sparams=expire%2Cei%2Cip%2Cid%2Caitags%2Csource%2Crequiressl%2Cvprv%2Cmime%2Cgir%2Cclen%2Cdur%2Clmt&sig=AOq0QJ8wRgIhAItsuh54AiuWyUIYygppGM6rUHnOKegepWnll_vBJClrAiEAozs14JwGZBMCzjb1Y8uJUFBXMC53UldLpsbFma0Pckg%3D&lsparams=mh%2Cmm%2Cmn%2Cms%2Cmv%2Cmvi%2Cpl%2Cinitcwndbps&lsig=AG3C_xAwRAIgCaWU5Q2KXIObyT4nKiuWZ879JOIg3HGsqJC86j1D1hoCIAqupXwrLic32eIIA_OqQYT9yjtQZbSlT_hPcsuAYsdy&ratebypass=yes':\n",
            "  Metadata:\n",
            "    major_brand     : dash\n",
            "    minor_version   : 0\n",
            "    compatible_brands: iso6avc1mp41\n",
            "    creation_time   : 2020-03-04T07:57:17.000000Z\n",
            "  Duration: 00:30:03.57, start: 0.000000, bitrate: 2807 kb/s\n",
            "    Stream #0:0(und): Video: h264 (High) (avc1 / 0x31637661), yuv420p(tv, bt709, progressive), 1920x1080 [SAR 1:1 DAR 16:9], 11 kb/s, 30 fps, 30 tbr, 15360 tbn, 60 tbc (default)\n",
            "    Metadata:\n",
            "      creation_time   : 2020-03-04T07:57:17.000000Z\n",
            "      handler_name    : ISO Media file produced by Google Inc.\n",
            "Input #1, matroska,webm, from 'https://r5---sn-5ualdn7e.googlevideo.com/videoplayback?expire=1605125547&ei=SvGrX_GyNYS-hwb8jL_IDw&ip=34.74.157.128&id=o-AORtkPNIaizx5z8WpeoW2ckJExXXtgi8vqLYtqKVLGdq&itag=251&source=youtube&requiressl=yes&mh=Oj&mm=31%2C29&mn=sn-5ualdn7e%2Csn-5uaeznde&ms=au%2Crdu&mv=m&mvi=5&pl=20&initcwndbps=2931250&vprv=1&mime=audio%2Fwebm&gir=yes&clen=27117534&dur=1803.601&lmt=1583308759891783&mt=1605103842&fvip=5&keepalive=yes&c=WEB&txp=2311222&sparams=expire%2Cei%2Cip%2Cid%2Citag%2Csource%2Crequiressl%2Cvprv%2Cmime%2Cgir%2Cclen%2Cdur%2Clmt&sig=AOq0QJ8wRAIgAbic_eWe5TPMtnMFUjL_kg-QtzBQlmilSzkXVVrfvpACIF_vc6QTGNGGTUJXB9lZwFRSESdKEV6GcGgtwfD1ED-N&lsparams=mh%2Cmm%2Cmn%2Cms%2Cmv%2Cmvi%2Cpl%2Cinitcwndbps&lsig=AG3C_xAwRAIgCaWU5Q2KXIObyT4nKiuWZ879JOIg3HGsqJC86j1D1hoCIAqupXwrLic32eIIA_OqQYT9yjtQZbSlT_hPcsuAYsdy&ratebypass=yes':\n",
            "  Metadata:\n",
            "    encoder         : google/video-file\n",
            "  Duration: 00:30:03.60, start: -0.007000, bitrate: 120 kb/s\n",
            "    Stream #1:0(eng): Audio: opus, 48000 Hz, stereo, fltp (default)\n",
            "Input #2, lavfi, from 'color=c=black:s=1920x1080:r=30:d=3':\n",
            "  Duration: N/A, start: 0.000000, bitrate: N/A\n",
            "    Stream #2:0: Video: rawvideo (I420 / 0x30323449), yuv420p, 1920x1080 [SAR 1:1 DAR 16:9], 30 tbr, 30 tbn, 30 tbc\n",
            "Input #3, lavfi, from 'anullsrc=cl=stereo:r=44100':\n",
            "  Duration: N/A, start: 0.000000, bitrate: 705 kb/s\n",
            "    Stream #3:0: Audio: pcm_u8, 44100 Hz, stereo, u8, 705 kb/s\n",
            "Stream mapping:\n",
            "  Stream #0:0 (h264) -> split\n",
            "  Stream #1:0 (opus) -> asplit\n",
            "  concat:out:v0 -> Stream #0:0 (libx264)\n",
            "  concat:out:a0 -> Stream #0:1 (aac)\n",
            "Press [q] to stop, [?] for help\n",
            "\u001b[1;36m[libx264 @ 0x564fc15fb200] \u001b[0musing SAR=1/1\n",
            "\u001b[1;36m[libx264 @ 0x564fc15fb200] \u001b[0musing cpu capabilities: MMX2 SSE2Fast SSSE3 SSE4.2 AVX FMA3 BMI2 AVX2\n",
            "\u001b[1;36m[libx264 @ 0x564fc15fb200] \u001b[0mprofile High, level 4.0\n",
            "\u001b[1;36m[libx264 @ 0x564fc15fb200] \u001b[0m264 - core 152 r2854 e9a5903 - H.264/MPEG-4 AVC codec - Copyleft 2003-2017 - http://www.videolan.org/x264.html - options: cabac=1 ref=3 deblock=1:0:0 analyse=0x3:0x113 me=hex subme=7 psy=1 psy_rd=1.00:0.00 mixed_ref=1 me_range=16 chroma_me=1 trellis=1 8x8dct=1 cqm=0 deadzone=21,11 fast_pskip=1 chroma_qp_offset=-2 threads=3 lookahead_threads=1 sliced_threads=0 nr=0 decimate=1 interlaced=0 bluray_compat=0 constrained_intra=0 bframes=3 b_pyramid=2 b_adapt=1 b_bias=0 direct=1 weightb=1 open_gop=0 weightp=2 keyint=250 keyint_min=25 scenecut=40 intra_refresh=0 rc_lookahead=40 rc=crf mbtree=1 crf=23.0 qcomp=0.60 qpmin=0 qpmax=69 qpstep=4 ip_ratio=1.40 aq=1:1.00\n",
            "Output #0, matroska, to 'clip6.mkv':\n",
            "  Metadata:\n",
            "    major_brand     : dash\n",
            "    minor_version   : 0\n",
            "    compatible_brands: iso6avc1mp41\n",
            "    encoder         : Lavf57.83.100\n",
            "    Stream #0:0: Video: h264 (libx264) (H264 / 0x34363248), yuv420p, 1920x1080 [SAR 1:1 DAR 16:9], q=-1--1, 30 fps, 1k tbn, 30 tbc (default)\n",
            "    Metadata:\n",
            "      encoder         : Lavc57.107.100 libx264\n",
            "    Side data:\n",
            "      cpb: bitrate max/min/avg: 0/0/0 buffer size: 0 vbv_delay: -1\n",
            "    Stream #0:1: Audio: aac (LC) ([255][0][0][0] / 0x00FF), 48000 Hz, stereo, fltp, 128 kb/s (default)\n",
            "    Metadata:\n",
            "      encoder         : Lavc57.107.100 aac\n",
            "frame=  420 fps=3.8 q=-1.0 Lsize=    4969kB time=00:00:14.01 bitrate=2904.5kbits/s speed=0.126x    \n",
            "video:4737kB audio:224kB subtitle:0kB other streams:0kB global headers:0kB muxing overhead: 0.174118%\n",
            "\u001b[1;36m[libx264 @ 0x564fc15fb200] \u001b[0mframe I:3     Avg QP:20.65  size: 68289\n",
            "\u001b[1;36m[libx264 @ 0x564fc15fb200] \u001b[0mframe P:132   Avg QP:21.85  size: 22294\n",
            "\u001b[1;36m[libx264 @ 0x564fc15fb200] \u001b[0mframe B:285   Avg QP:23.50  size:  5974\n",
            "\u001b[1;36m[libx264 @ 0x564fc15fb200] \u001b[0mconsecutive B-frames:  6.2%  6.2% 11.4% 76.2%\n",
            "\u001b[1;36m[libx264 @ 0x564fc15fb200] \u001b[0mmb I  I16..4: 31.0% 60.1%  8.9%\n",
            "\u001b[1;36m[libx264 @ 0x564fc15fb200] \u001b[0mmb P  I16..4: 13.5% 19.2%  0.5%  P16..4: 30.0%  5.5%  2.3%  0.0%  0.0%    skip:28.9%\n",
            "\u001b[1;36m[libx264 @ 0x564fc15fb200] \u001b[0mmb B  I16..4:  2.1%  2.3%  0.0%  B16..8: 26.0%  1.5%  0.2%  direct: 1.4%  skip:66.6%  L0:50.3% L1:47.4% BI: 2.3%\n",
            "\u001b[1;36m[libx264 @ 0x564fc15fb200] \u001b[0m8x8 transform intra:56.5% inter:88.0%\n",
            "\u001b[1;36m[libx264 @ 0x564fc15fb200] \u001b[0mcoded y,uvDC,uvAC intra: 21.8% 45.1% 4.9% inter: 5.5% 9.5% 0.3%\n",
            "\u001b[1;36m[libx264 @ 0x564fc15fb200] \u001b[0mi16 v,h,dc,p: 25% 34%  9% 32%\n",
            "\u001b[1;36m[libx264 @ 0x564fc15fb200] \u001b[0mi8 v,h,dc,ddl,ddr,vr,hd,vl,hu: 37% 25% 24%  2%  2%  2%  3%  2%  3%\n",
            "\u001b[1;36m[libx264 @ 0x564fc15fb200] \u001b[0mi4 v,h,dc,ddl,ddr,vr,hd,vl,hu: 32% 31% 14%  3%  4%  5%  4%  4%  3%\n",
            "\u001b[1;36m[libx264 @ 0x564fc15fb200] \u001b[0mi8c dc,h,v,p: 47% 26% 22%  5%\n",
            "\u001b[1;36m[libx264 @ 0x564fc15fb200] \u001b[0mWeighted P-Frames: Y:3.8% UV:3.8%\n",
            "\u001b[1;36m[libx264 @ 0x564fc15fb200] \u001b[0mref P L0: 60.8%  9.3% 17.8% 12.1%  0.1%\n",
            "\u001b[1;36m[libx264 @ 0x564fc15fb200] \u001b[0mref B L0: 87.6%  9.9%  2.5%\n",
            "\u001b[1;36m[libx264 @ 0x564fc15fb200] \u001b[0mref B L1: 95.1%  4.9%\n",
            "\u001b[1;36m[libx264 @ 0x564fc15fb200] \u001b[0mkb/s:2771.60\n",
            "\u001b[1;36m[aac @ 0x564fc1492500] \u001b[0mQavg: 869.760\n"
          ],
          "name": "stdout"
        }
      ]
    }
  ]
}