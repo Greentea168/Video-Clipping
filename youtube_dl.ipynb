{
  "nbformat": 4,
  "nbformat_minor": 0,
  "metadata": {
    "colab": {
      "name": "youtube-dl.ipynb",
      "provenance": [],
      "collapsed_sections": [
        "qZSOBY3ET-Lc",
        "ICyDALQCDqWf",
        "OluCRg9AD_Z1",
        "vkhqGyVfr0GM",
        "cXyVKq1lBfHb",
        "VTrpKd2Qx8jF",
        "v1qY8ArZNpiT",
        "u8j6iUkG_Slw"
      ],
      "toc_visible": true,
      "mount_file_id": "1CXKZEA3QcF-UXpY8B2Ex6u883eSGbvYA",
      "authorship_tag": "ABX9TyOsZQy16tOs8OtOyCvKUq9a",
      "include_colab_link": true
    },
    "kernelspec": {
      "display_name": "Python 3",
      "name": "python3"
    }
  },
  "cells": [
    {
      "cell_type": "markdown",
      "metadata": {
        "id": "view-in-github",
        "colab_type": "text"
      },
      "source": [
        "<a href=\"https://colab.research.google.com/github/Greentea168/Video-Clipping/blob/main/youtube_dl.ipynb\" target=\"_parent\"><img src=\"https://colab.research.google.com/assets/colab-badge.svg\" alt=\"Open In Colab\"/></a>"
      ]
    },
    {
      "cell_type": "markdown",
      "metadata": {
        "id": "4QghkuGeDC3i"
      },
      "source": [
        "sources: \n",
        "[clip_specific_time](https://stackoverflow.com/questions/57131049/is-it-possible-to-download-a-specific-part-of-a-file),\n",
        "[yt-dlc](https://github.com/blackjack4494/yt-dlc#installation), [ffmpeg_script](https://unix.stackexchange.com/questions/230481/how-to-download-portion-of-video-with-youtube-dl-command/388148#388148)\n",
        "\n",
        "\n",
        "if you experience any issues, ping me on Discord @Greentea#8610"
      ]
    },
    {
      "cell_type": "code",
      "metadata": {
        "colab": {
          "base_uri": "https://localhost:8080/"
        },
        "id": "xY85VUHEC8XY",
        "cellView": "form",
        "outputId": "6b007b8b-eadf-4967-979c-6d82b4eba628"
      },
      "source": [
        "#@markdown ## Step 1: Run this cell\n",
        "#@markdown press the play button on the left\n",
        "\n",
        "# A prompt will come up asking you to continue and you can jsut press enter\n",
        "!pip install youtube_dl\n",
        "!apt install ffmpeg\n",
        "!pip install --upgrade youtube-dlc\n",
        "\n",
        "import os, sys, datetime, shutil\n",
        "from google.colab import drive\n",
        "import re\n",
        "import youtube_dl, subprocess\n",
        "import pandas as pd\n",
        "import numpy as np\n",
        "from datetime import datetime, timedelta\n",
        "from tqdm import tqdm\n",
        "import warnings\n",
        "warnings.filterwarnings(\"ignore\")\n",
        "\n",
        "def get_duration(FROM, TO):\n",
        "    TO = \"00:\"+TO if len(TO) == 5 else \"00:0\"+TO if len(TO) == 4 else \"0\"+TO if len(TO) == 7 else TO\n",
        "    FROM = \"00:\"+FROM if len(FROM) == 5 else \"00:0\"+FROM if len(FROM) == 4 else \"0\"+FROM if len(FROM) == 7 else FROM\n",
        "\n",
        "    duration = (pd.to_datetime(TO) - pd.to_datetime(FROM))\n",
        "    days, seconds = duration.days, duration.seconds\n",
        "    hours = \"0\"+str(days * 24 + seconds // 3600) if len(str(days * 24 + seconds // 3600)) == 1 else str(days * 24 + seconds // 3600)\n",
        "    minutes = \"0\"+str((seconds % 3600) // 60) if len(str((seconds % 3600) // 60)) == 1 else str((seconds % 3600) // 60)\n",
        "    seconds = \"0\"+str(seconds % 60) if len(str(seconds % 60)) == 1 else str(seconds % 60)\n",
        "    return hours+\":\"+minutes+\":\"+seconds\n",
        "\n",
        "def clean_timestamp(timestamp_val, timestamp_type, add_pad, verbose=False):\n",
        "    if verbose == True:\n",
        "        print(timestamp_val)\n",
        "    timestamp_val = \"00:\"+timestamp_val if len(timestamp_val) == 5 else \"00:0\"+timestamp_val if len(timestamp_val) == 4 else \"0\"+timestamp_val if len(timestamp_val) == 7 else timestamp_val\n",
        "    \n",
        "    if timestamp_type == \"end_time\":\n",
        "        adjusted_timestamp = pd.to_datetime(timestamp_val) + timedelta(seconds=add_pad)\n",
        "    elif timestamp_type == \"start_time\":\n",
        "        if timestamp_val == \"00:00:00\":\n",
        "            adjusted_timestamp = pd.to_datetime(timestamp_val)\n",
        "        else:\n",
        "            adjusted_timestamp = pd.to_datetime(timestamp_val) - timedelta(seconds=add_pad)\n",
        "    adjusted_timestamp = (adjusted_timestamp - datetime.today().replace(hour=0, minute=0, second=0, microsecond=0))\n",
        "\n",
        "    days, seconds = adjusted_timestamp.days, adjusted_timestamp.seconds\n",
        "    hours = \"0\"+str(days * 24 + seconds // 3600) if len(str(days * 24 + seconds // 3600)) == 1 else str(days * 24 + seconds // 3600)\n",
        "    minutes = \"0\"+str((seconds % 3600) // 60) if len(str((seconds % 3600) // 60)) == 1 else str((seconds % 3600) // 60)\n",
        "    seconds = \"0\"+str(seconds % 60) if len(str(seconds % 60)) == 1 else str(seconds % 60)\n",
        "    return hours+\":\"+minutes+\":\"+seconds\n",
        "\n",
        "def get_clip(youtube_url, clip_start_time, duration, filename, folder=\"\"):\n",
        "\n",
        "    if folder==\"\":\n",
        "        absolute_drive_path = filename\n",
        "    else:\n",
        "        absolute_drive_path = os.path.join(\"/content/drive/MyDrive\", folder, filename)\n",
        "    \n",
        "    mount_drive = True\n",
        "    if mount_drive:\n",
        "        drive.mount('/content/drive')\n",
        "\n",
        "    os.environ['YT_URL'] = youtube_url\n",
        "    os.environ['LENGTH'] = duration\n",
        "    os.environ['FILENAME'] = filename\n",
        "    os.environ['PARAMETER'] = \"s/.*/-ss \"+clip_start_time+\" -i &/\"\n",
        "\n",
        "    !ffmpeg $(youtube-dl -g \"$YT_URL\" | sed \"$PARAMETER\") -t \"$LENGTH\" -map 0:v -map 1:a  -c:v libx264 -c:a aac \"$FILENAME\" \n",
        "\n",
        "def aonohara_get_clip(youtube_url, clip_start_time, duration, filename, folder=\"\"):\n",
        "    if folder==\"\":\n",
        "        absolute_drive_path = filename\n",
        "    else:\n",
        "        absolute_drive_path = os.path.join(\"/content/drive/MyDrive\", folder, filename)\n",
        "    \n",
        "    mount_drive = True\n",
        "    if mount_drive:\n",
        "        drive.mount('/content/drive')\n",
        "\n",
        "    os.environ['YT_URL'] = youtube_url\n",
        "    os.environ['START_TIME'] = clip_start_time\n",
        "    os.environ['LENGTH'] = duration\n",
        "    os.environ['FILENAME'] = filename\n",
        "    os.environ['RAWVIDEO'] = filename[:-4]\n",
        "    !youtube-dl \"$YT_URL\" --output \"$RAWVIDEO\"\n",
        "    !ffmpeg -y -ss \"$START_TIME\" -i \"$(ls $RAWVIDEO.*)\" -t \"$LENGTH\" -c:v libx264 -c:a aac \"$FILENAME\"\n",
        "    \n",
        "    if folder!=\"\":\n",
        "        print(\"Copying file to Google Drive...\")\n",
        "        shutil.copy2(\"/content/\"+filename, absolute_drive_path)\n",
        "        print(\"File copied to Google Drive at\", absolute_drive_path)\n",
        "        !rm \"$FILENAME\"\n",
        "        !rm \"$(ls $RAWVIDEO.*)\"   "
      ],
      "execution_count": 66,
      "outputs": [
        {
          "output_type": "stream",
          "text": [
            "Requirement already satisfied: youtube_dl in /usr/local/lib/python3.6/dist-packages (2021.2.4.1)\n",
            "Reading package lists... Done\n",
            "Building dependency tree       \n",
            "Reading state information... Done\n",
            "ffmpeg is already the newest version (7:3.4.8-0ubuntu0.2).\n",
            "0 upgraded, 0 newly installed, 0 to remove and 15 not upgraded.\n",
            "Requirement already up-to-date: youtube-dlc in /usr/local/lib/python3.6/dist-packages (2020.11.11.post3)\n"
          ],
          "name": "stdout"
        }
      ]
    },
    {
      "cell_type": "markdown",
      "metadata": {
        "id": "D6lqX-EkJHRK"
      },
      "source": [
        "## Download Video\r\n",
        "As of the moment this can only download video files. You can run the converter below if you want to transform it into an audio file."
      ]
    },
    {
      "cell_type": "code",
      "metadata": {
        "id": "AM9uu6ecGP1r",
        "cellView": "form"
      },
      "source": [
        "from datetime import datetime, timedelta\n",
        "\n",
        "#@markdown ## Step 2: Place the details\n",
        "\n",
        "# url of the video you want to clip\n",
        "URL = \"https://www.youtube.com/watch?v=gt_Dhf49Ay4\" #@param {\"type\": \"string\"}\n",
        "\n",
        "#@markdown start time of the clip\n",
        "FROM = \"01:45:27\" #@param {\"type\": \"string\"}\n",
        "#@markdown end time of the clip\n",
        "TO = \"01:45:37\" #@param {\"type\": \"string\"}\n",
        "\n",
        "# filename of the output file\n",
        "FOLDER = \"\"\n",
        "# FOLDER = os.path.join(\"Astel\",\"Raw\\ Clips\")\n",
        "#@markdown filename\n",
        "TARGET = \"sample.mkv\" #@param {\"type\": \"string\"}\n",
        "\n",
        "# get the seconds conversion of FROM\n",
        "FROM_seconds = int((datetime.strptime(FROM, \"%H:%M:%S\") - datetime(1900, 1, 1)).total_seconds())\n",
        "\n",
        "# YouTubeVideo(URL.split(\"=\")[1], start = FROM_seconds, autoplay=1, theme=\"light\", color=\"red\")"
      ],
      "execution_count": 69,
      "outputs": []
    },
    {
      "cell_type": "code",
      "metadata": {
        "id": "9i4kjWi8uGe3",
        "cellView": "form"
      },
      "source": [
        "#@markdown ## Step 3: Press Run\n",
        "#@markdown if you're okay with the settings, just click the play button on the left\n",
        "\n",
        "get_clip(URL, FROM, get_duration(FROM, TO), TARGET, FOLDER)\n",
        "# aonohara_get_clip(URL, FROM, get_duration(FROM, TO), TARGET, FOLDER)\n",
        "# !ffmpeg -i clip.mkv -c:v copy -c:a copy $TARGET"
      ],
      "execution_count": null,
      "outputs": []
    },
    {
      "cell_type": "code",
      "metadata": {
        "cellView": "form",
        "id": "ccVIkG2SO39L"
      },
      "source": [
        "#@markdown ## Optional: Convert file from video to audio\r\n",
        "\r\n",
        "# filename of the video file you download\r\n",
        "VIDEO_FILE = \"sample.mkv\" #@param {\"type\": \"string\"}\r\n",
        "\r\n",
        "# filename of the audio file\r\n",
        "AUDIO_FILE = \"sample.mp3\" #@param {\"type\": \"string\"}\r\n",
        "\r\n",
        "os.environ['VIDEO_FILENAME'] = VIDEO_FILE\r\n",
        "os.environ['AUDIO_FILENAME'] = AUDIO_FILE\r\n",
        "\r\n",
        "!ffmpeg -i \"$VIDEO_FILENAME\" -b:a 192K -vn \"$AUDIO_FILENAME\""
      ],
      "execution_count": null,
      "outputs": []
    },
    {
      "cell_type": "markdown",
      "metadata": {
        "id": "qZSOBY3ET-Lc"
      },
      "source": [
        "# Old Scripts"
      ]
    },
    {
      "cell_type": "markdown",
      "metadata": {
        "id": "ICyDALQCDqWf"
      },
      "source": [
        "## Download Video"
      ]
    },
    {
      "cell_type": "markdown",
      "metadata": {
        "id": "OluCRg9AD_Z1"
      },
      "source": [
        "#### for multiple downloads\n",
        "if you have multiple clips you need to download, you can place the data in a google sheet.\n",
        "\n",
        "The sheet must have a column named Link & Timestamp containing the url and timestamps you want to parse respectively.\n",
        "\n",
        "The Timestamp column must follow the format [hh:mm:ss-hh:mm:ss], [hh:mm:ss-hh:mm:ss]"
      ]
    },
    {
      "cell_type": "code",
      "metadata": {
        "colab": {
          "base_uri": "https://localhost:8080/"
        },
        "id": "dYg_OfnTuqFI",
        "outputId": "b25a06c5-80a8-4c36-c5ec-75f34e9ce84d"
      },
      "source": [
        "# !pip install --upgrade gspread\n",
        "# from google.colab import auth\n",
        "# import gspread\n",
        "# from oauth2client.client import GoogleCredentials\n",
        "# from tqdm import tqdm"
      ],
      "execution_count": null,
      "outputs": [
        {
          "output_type": "stream",
          "text": [
            "Collecting gspread\n",
            "  Downloading https://files.pythonhosted.org/packages/9c/ba/bc8de4f5077bd34bc873bdd67a89cb29c4f181abba8a836d2c6a0a142365/gspread-3.6.0-py3-none-any.whl\n",
            "Requirement already satisfied, skipping upgrade: requests>=2.2.1 in /usr/local/lib/python3.6/dist-packages (from gspread) (2.23.0)\n",
            "Requirement already satisfied, skipping upgrade: google-auth-oauthlib>=0.4.1 in /usr/local/lib/python3.6/dist-packages (from gspread) (0.4.2)\n",
            "Requirement already satisfied, skipping upgrade: google-auth>=1.12.0 in /usr/local/lib/python3.6/dist-packages (from gspread) (1.17.2)\n",
            "Requirement already satisfied, skipping upgrade: idna<3,>=2.5 in /usr/local/lib/python3.6/dist-packages (from requests>=2.2.1->gspread) (2.10)\n",
            "Requirement already satisfied, skipping upgrade: urllib3!=1.25.0,!=1.25.1,<1.26,>=1.21.1 in /usr/local/lib/python3.6/dist-packages (from requests>=2.2.1->gspread) (1.24.3)\n",
            "Requirement already satisfied, skipping upgrade: chardet<4,>=3.0.2 in /usr/local/lib/python3.6/dist-packages (from requests>=2.2.1->gspread) (3.0.4)\n",
            "Requirement already satisfied, skipping upgrade: certifi>=2017.4.17 in /usr/local/lib/python3.6/dist-packages (from requests>=2.2.1->gspread) (2020.11.8)\n",
            "Requirement already satisfied, skipping upgrade: requests-oauthlib>=0.7.0 in /usr/local/lib/python3.6/dist-packages (from google-auth-oauthlib>=0.4.1->gspread) (1.3.0)\n",
            "Requirement already satisfied, skipping upgrade: rsa<5,>=3.1.4; python_version >= \"3\" in /usr/local/lib/python3.6/dist-packages (from google-auth>=1.12.0->gspread) (4.6)\n",
            "Requirement already satisfied, skipping upgrade: cachetools<5.0,>=2.0.0 in /usr/local/lib/python3.6/dist-packages (from google-auth>=1.12.0->gspread) (4.1.1)\n",
            "Requirement already satisfied, skipping upgrade: six>=1.9.0 in /usr/local/lib/python3.6/dist-packages (from google-auth>=1.12.0->gspread) (1.15.0)\n",
            "Requirement already satisfied, skipping upgrade: setuptools>=40.3.0 in /usr/local/lib/python3.6/dist-packages (from google-auth>=1.12.0->gspread) (50.3.2)\n",
            "Requirement already satisfied, skipping upgrade: pyasn1-modules>=0.2.1 in /usr/local/lib/python3.6/dist-packages (from google-auth>=1.12.0->gspread) (0.2.8)\n",
            "Requirement already satisfied, skipping upgrade: oauthlib>=3.0.0 in /usr/local/lib/python3.6/dist-packages (from requests-oauthlib>=0.7.0->google-auth-oauthlib>=0.4.1->gspread) (3.1.0)\n",
            "Requirement already satisfied, skipping upgrade: pyasn1>=0.1.3 in /usr/local/lib/python3.6/dist-packages (from rsa<5,>=3.1.4; python_version >= \"3\"->google-auth>=1.12.0->gspread) (0.4.8)\n",
            "Installing collected packages: gspread\n",
            "  Found existing installation: gspread 3.0.1\n",
            "    Uninstalling gspread-3.0.1:\n",
            "      Successfully uninstalled gspread-3.0.1\n",
            "Successfully installed gspread-3.6.0\n"
          ],
          "name": "stdout"
        }
      ]
    },
    {
      "cell_type": "code",
      "metadata": {
        "id": "CIuSV99Bu9Kk"
      },
      "source": [
        "# def extract_timestamps(sheet, sheet_name, add_pad,verbose=False):\n",
        "#     df = pd.DataFrame(sheet.get_all_records()).rename(columns={\"Timestamps\":\"Timestamp\", \"Time Stamps\":\"Timestamp\", \"What's happening\":\"Desc\", \"Explanation\":\"Desc\", \"YouTube Link\":\"Link\"})\n",
        "#     df_sliced = df[(df[\"Filename\"]!=\"\")].reset_index(drop=True)\n",
        "#     df_sliced[\"Timestamp\"] = df_sliced[\"Timestamp\"].str.strip()\n",
        "#     url = [df_sliced.loc[row, \"Link\"][:43] for row in range(len(df_sliced))]\n",
        "#     timestamp_list = [re.sub(\"[^0-9:,-]\", \"\", df_sliced.loc[row, \"Timestamp\"]).split(\",\") for row in range(len(df_sliced))]\n",
        "#     timestamp_series = pd.Series(timestamp_list).apply(pd.Series).reset_index().melt(id_vars='index').dropna()[['index', 'value']].set_index('index')\n",
        "#     df_merge = pd.merge(df_sliced, timestamp_series, left_index=True, right_index=True).reset_index(drop=True)\n",
        "#     df_merge[\"start_time\"] = df_merge[\"value\"].str.split(\"-\", expand=True)[0]\n",
        "#     df_merge[\"Link\"] = df_merge[\"Link\"].apply(lambda x: x.split(\"?\")[0] if \"youtu.be\" in x else x.split(\"&\")[0])\n",
        "#     df_merge[\"end_time\"] = df_merge[\"value\"].str.split(\"-\", expand=True)[1]\n",
        "#     df_merge[\"start_time_new\"] = df_merge[\"start_time\"].apply(lambda x: clean_timestamp(x,\"start_time\", add_pad, verbose))\n",
        "#     df_merge[\"end_time_new\"] = df_merge[\"end_time\"].apply(lambda x: clean_timestamp(x,\"end_time\", add_pad, verbose))\n",
        "#     df_merge[\"duration\"] = df_merge[[\"start_time_new\", \"end_time_new\"]].apply(lambda x : get_duration(*x), axis=1)\n",
        "#     # df_merge[\"gap\"] = df_merge[[\"start_time_new\", \"end_time_new\"]]\n",
        "#     df_merge[\"count\"] = df_merge.groupby('Desc').cumcount() + 1\n",
        "#     df_merge[\"folder\"] = df_merge[\"Desc\"].apply(lambda x: re.sub(\"[^A-Za-z0-9 ._]\", \"\", x)).str.replace(\" \",\"_\")\n",
        "#     df_merge[\"title\"] = df_merge[\"Desc\"].apply(lambda x: re.sub(\"[^A-Za-z0-9 ._]\", \"\", x+\"_Clip\")).str.replace(\" \",\"_\")\n",
        "#     df_merge[\"title\"] = df_merge[\"title\"] + df_merge[\"count\"].apply(str) + \".mp4\"\n",
        "#     df_merge[\"sheet_name\"] = sheet_name\n",
        "#     return df_merge.drop([\"count\"], axis=1)"
      ],
      "execution_count": null,
      "outputs": []
    },
    {
      "cell_type": "code",
      "metadata": {
        "id": "r3TXkKAqu9fK"
      },
      "source": [
        "# def get_sheet_time(url, sheets_list=[], verbose=False):\n",
        "\n",
        "#     auth.authenticate_user()\n",
        "#     gc = gspread.authorize(GoogleCredentials.get_application_default())\n",
        "#     df = pd.DataFrame()\n",
        "\n",
        "#     worksheet = gc.open_by_url(url)\n",
        "\n",
        "#     for sheet in worksheet.worksheets():\n",
        "#         if sheet.title in sheets_list:\n",
        "#             if verbose == True:\n",
        "#                 print(sheet.title)\n",
        "#             placeholder_df = extract_timestamps(sheet, sheet.title, verbose)\n",
        "#             df = pd.concat([df, placeholder_df])\n",
        "#     return df.drop([\"value\"], axis=1).reset_index(drop=True)"
      ],
      "execution_count": null,
      "outputs": []
    },
    {
      "cell_type": "code",
      "metadata": {
        "colab": {
          "base_uri": "https://localhost:8080/",
          "height": 763
        },
        "id": "7ixBgO3TDvu-",
        "outputId": "3293f61b-f739-48c7-ac52-98206987aa20"
      },
      "source": [
        "# url = \"https://docs.google.com/spreadsheets/d/1mg18bJE5J1qHGejVjKRx9ZUBUCbaEdWYSPCLy9SyA2s/edit#gid=1909165107\"\n",
        "\n",
        "# sheets_list = [\"Doris\"]\n",
        "# failed_list = []\n",
        "# interval = 0\n",
        "\n",
        "# ## No need to touch the code beyond this line.\n",
        "# df = get_sheet_time(url, sheets_list, interval)#, verbose=True)\n",
        "# print(df.shape)\n",
        "# df\n",
        "\n",
        "# # sheet_name = df.loc[0, \"sheet_name\"].split(\" \")[1].replace(\" \", \"\\ \")\n",
        "# # for folder in df.folder.unique():\n",
        "# #     !mkdir -p /content/drive/My\\ Drive/$sheet_name/Raw\\ Clips/$folder\n",
        "\n",
        "# # for row in range(31, 32):\n",
        "# #     print(df.loc[row, \"Link\"], df.loc[row, \"start_time_new\"], df.loc[row, \"end_time_new\"], df.loc[row, \"duration\"], df.loc[row, \"sheet_name\"].split(\" \")[-1], df.loc[row, \"folder\"], df.loc[row, \"title\"])\n",
        "#     # try:\n",
        "#     #     aonohara_get_clip(df.loc[row, \"Link\"], df.loc[row, \"start_time_new\"], df.loc[row, \"duration\"], df.loc[row, \"sheet_name\"].split(\" \")[-1], df.loc[row, \"folder\"], df.loc[row, \"title\"])\n",
        "#     #     # get_clip(df.loc[row, \"Link\"], df.loc[row, \"start_time_new\"], df.loc[row, \"end_time_new\"], \"/content/sample/\"+df.loc[row, \"folder\"]+\"/\"+df.loc[row, \"title\"])\n",
        "#     # except Exception as e:\n",
        "#     #     failed_list.append(df.loc[row, \"Link\"])\n",
        "#         # print(e, df.loc[row, \"Link\"])"
      ],
      "execution_count": null,
      "outputs": [
        {
          "output_type": "stream",
          "text": [
            "(11, 17)\n"
          ],
          "name": "stdout"
        },
        {
          "output_type": "execute_result",
          "data": {
            "text/html": [
              "<div>\n",
              "<style scoped>\n",
              "    .dataframe tbody tr th:only-of-type {\n",
              "        vertical-align: middle;\n",
              "    }\n",
              "\n",
              "    .dataframe tbody tr th {\n",
              "        vertical-align: top;\n",
              "    }\n",
              "\n",
              "    .dataframe thead th {\n",
              "        text-align: right;\n",
              "    }\n",
              "</style>\n",
              "<table border=\"1\" class=\"dataframe\">\n",
              "  <thead>\n",
              "    <tr style=\"text-align: right;\">\n",
              "      <th></th>\n",
              "      <th>Clip number</th>\n",
              "      <th>Date</th>\n",
              "      <th>Link</th>\n",
              "      <th>Timestamp:</th>\n",
              "      <th>Lengths</th>\n",
              "      <th>Desc</th>\n",
              "      <th>Final order</th>\n",
              "      <th>Filename</th>\n",
              "      <th>Timestamp</th>\n",
              "      <th>start_time</th>\n",
              "      <th>end_time</th>\n",
              "      <th>start_time_new</th>\n",
              "      <th>end_time_new</th>\n",
              "      <th>duration</th>\n",
              "      <th>folder</th>\n",
              "      <th>title</th>\n",
              "      <th>sheet_name</th>\n",
              "    </tr>\n",
              "  </thead>\n",
              "  <tbody>\n",
              "    <tr>\n",
              "      <th>0</th>\n",
              "      <td>1</td>\n",
              "      <td>2020-07-14</td>\n",
              "      <td>https://www.bilibili.com/video/BV1jC4y1h79T/</td>\n",
              "      <td>[1:00-1:17]</td>\n",
              "      <td>17</td>\n",
              "      <td>Doris gets bombarded by SCs.</td>\n",
              "      <td></td>\n",
              "      <td>Clip1</td>\n",
              "      <td>[1:00-1:17]</td>\n",
              "      <td>1:00</td>\n",
              "      <td>1:17</td>\n",
              "      <td>00:01:00</td>\n",
              "      <td>00:01:17</td>\n",
              "      <td>00:00:17</td>\n",
              "      <td>Doris_gets_bombarded_by_SCs.</td>\n",
              "      <td>Doris_gets_bombarded_by_SCs._Clip1.mp4</td>\n",
              "      <td>Doris</td>\n",
              "    </tr>\n",
              "    <tr>\n",
              "      <th>1</th>\n",
              "      <td>2</td>\n",
              "      <td>2020-04-25</td>\n",
              "      <td>https://www.bilibili.com/video/BV1V64y1M7UV</td>\n",
              "      <td>[0:32-1:11]</td>\n",
              "      <td>39</td>\n",
              "      <td>Start Dash, one of the most famous songs in LL...</td>\n",
              "      <td></td>\n",
              "      <td>Clip2</td>\n",
              "      <td>[0:32-1:11]</td>\n",
              "      <td>0:32</td>\n",
              "      <td>1:11</td>\n",
              "      <td>00:00:32</td>\n",
              "      <td>00:01:11</td>\n",
              "      <td>00:00:39</td>\n",
              "      <td>Start_Dash_one_of_the_most_famous_songs_in_LL....</td>\n",
              "      <td>Start_Dash_one_of_the_most_famous_songs_in_LL....</td>\n",
              "      <td>Doris</td>\n",
              "    </tr>\n",
              "    <tr>\n",
              "      <th>2</th>\n",
              "      <td>3</td>\n",
              "      <td>2020-04-14</td>\n",
              "      <td>https://www.bilibili.com/video/BV1ga4y147Ni</td>\n",
              "      <td>[118:12-119:21]</td>\n",
              "      <td>69</td>\n",
              "      <td>Thank you friends, very emotional song.</td>\n",
              "      <td></td>\n",
              "      <td>Clip3</td>\n",
              "      <td>[01:58:12-01:59:21]</td>\n",
              "      <td>01:58:12</td>\n",
              "      <td>01:59:21</td>\n",
              "      <td>01:58:12</td>\n",
              "      <td>01:59:21</td>\n",
              "      <td>00:01:09</td>\n",
              "      <td>Thank_you_friends_very_emotional_song.</td>\n",
              "      <td>Thank_you_friends_very_emotional_song._Clip1.mp4</td>\n",
              "      <td>Doris</td>\n",
              "    </tr>\n",
              "    <tr>\n",
              "      <th>3</th>\n",
              "      <td>4</td>\n",
              "      <td>2020-03-15</td>\n",
              "      <td>https://www.bilibili.com/video/BV1KE41137Ja</td>\n",
              "      <td>[1:04-1:32]</td>\n",
              "      <td>28</td>\n",
              "      <td>Doris is a mermaid+Debut vid, shinkai shoujo r...</td>\n",
              "      <td></td>\n",
              "      <td>Clip4</td>\n",
              "      <td>[1:04-1:32]</td>\n",
              "      <td>1:04</td>\n",
              "      <td>1:32</td>\n",
              "      <td>00:01:04</td>\n",
              "      <td>00:01:32</td>\n",
              "      <td>00:00:28</td>\n",
              "      <td>Doris_is_a_mermaidDebut_vid_shinkai_shoujo_res...</td>\n",
              "      <td>Doris_is_a_mermaidDebut_vid_shinkai_shoujo_res...</td>\n",
              "      <td>Doris</td>\n",
              "    </tr>\n",
              "    <tr>\n",
              "      <th>4</th>\n",
              "      <td>5</td>\n",
              "      <td>2020-08-13</td>\n",
              "      <td>https://www.bilibili.com/video/BV165411874h</td>\n",
              "      <td>[0:00-0:10]</td>\n",
              "      <td>10</td>\n",
              "      <td>Doris is fooood</td>\n",
              "      <td></td>\n",
              "      <td>Clip5</td>\n",
              "      <td>[0:00-0:10]</td>\n",
              "      <td>0:00</td>\n",
              "      <td>0:10</td>\n",
              "      <td>00:00:00</td>\n",
              "      <td>00:00:10</td>\n",
              "      <td>00:00:10</td>\n",
              "      <td>Doris_is_fooood</td>\n",
              "      <td>Doris_is_fooood_Clip1.mp4</td>\n",
              "      <td>Doris</td>\n",
              "    </tr>\n",
              "    <tr>\n",
              "      <th>5</th>\n",
              "      <td>6</td>\n",
              "      <td>2020-06-02</td>\n",
              "      <td>https://www.bilibili.com/video/BV13k4y1z72Z</td>\n",
              "      <td>[19:38-20:17]</td>\n",
              "      <td>39</td>\n",
              "      <td>Emotional Birthday moment</td>\n",
              "      <td></td>\n",
              "      <td>Clip6</td>\n",
              "      <td>[19:38-20:17]</td>\n",
              "      <td>19:38</td>\n",
              "      <td>20:17</td>\n",
              "      <td>00:19:38</td>\n",
              "      <td>00:20:17</td>\n",
              "      <td>00:00:39</td>\n",
              "      <td>Emotional_Birthday_moment</td>\n",
              "      <td>Emotional_Birthday_moment_Clip1.mp4</td>\n",
              "      <td>Doris</td>\n",
              "    </tr>\n",
              "    <tr>\n",
              "      <th>6</th>\n",
              "      <td>7</td>\n",
              "      <td>2020-07-19</td>\n",
              "      <td>https://www.bilibili.com/video/BV1rv411q7sF/</td>\n",
              "      <td>[0:26-0:44]</td>\n",
              "      <td>18</td>\n",
              "      <td>Doris getting baited by 98K in pubg</td>\n",
              "      <td></td>\n",
              "      <td>Clip7</td>\n",
              "      <td>[0:26-0:44]</td>\n",
              "      <td>0:26</td>\n",
              "      <td>0:44</td>\n",
              "      <td>00:00:26</td>\n",
              "      <td>00:00:44</td>\n",
              "      <td>00:00:18</td>\n",
              "      <td>Doris_getting_baited_by_98K_in_pubg</td>\n",
              "      <td>Doris_getting_baited_by_98K_in_pubg_Clip1.mp4</td>\n",
              "      <td>Doris</td>\n",
              "    </tr>\n",
              "    <tr>\n",
              "      <th>7</th>\n",
              "      <td>8</td>\n",
              "      <td>2020-07-17</td>\n",
              "      <td>https://www.bilibili.com/video/BV1u5411a7d5</td>\n",
              "      <td>[2:50-2:54]</td>\n",
              "      <td>4</td>\n",
              "      <td>Doris-chan wa kyou mo kawaii</td>\n",
              "      <td></td>\n",
              "      <td>Clip8</td>\n",
              "      <td>[2:50-2:54]</td>\n",
              "      <td>2:50</td>\n",
              "      <td>2:54</td>\n",
              "      <td>00:02:50</td>\n",
              "      <td>00:02:54</td>\n",
              "      <td>00:00:04</td>\n",
              "      <td>Dorischan_wa_kyou_mo_kawaii</td>\n",
              "      <td>Dorischan_wa_kyou_mo_kawaii_Clip1.mp4</td>\n",
              "      <td>Doris</td>\n",
              "    </tr>\n",
              "    <tr>\n",
              "      <th>8</th>\n",
              "      <td>9</td>\n",
              "      <td>2020-06-05</td>\n",
              "      <td>https://www.bilibili.com/video/BV1tK411p7WY</td>\n",
              "      <td>[0:59-1:59]</td>\n",
              "      <td>60</td>\n",
              "      <td>Doris confessing to Rosalyn</td>\n",
              "      <td></td>\n",
              "      <td>Clip9</td>\n",
              "      <td>[0:59-1:59]</td>\n",
              "      <td>0:59</td>\n",
              "      <td>1:59</td>\n",
              "      <td>00:00:59</td>\n",
              "      <td>00:01:59</td>\n",
              "      <td>00:01:00</td>\n",
              "      <td>Doris_confessing_to_Rosalyn</td>\n",
              "      <td>Doris_confessing_to_Rosalyn_Clip1.mp4</td>\n",
              "      <td>Doris</td>\n",
              "    </tr>\n",
              "    <tr>\n",
              "      <th>9</th>\n",
              "      <td>10</td>\n",
              "      <td>2020-04-05</td>\n",
              "      <td>https://www.bilibili.com/video/BV1RT4y137Xm</td>\n",
              "      <td>[62:10 - 62:22]</td>\n",
              "      <td>12</td>\n",
              "      <td>Start of Doris bond with fans</td>\n",
              "      <td></td>\n",
              "      <td>Clip10</td>\n",
              "      <td>[1:02:10 - 1:02:22]</td>\n",
              "      <td>1:02:10</td>\n",
              "      <td>1:02:22</td>\n",
              "      <td>01:02:10</td>\n",
              "      <td>01:02:22</td>\n",
              "      <td>00:00:12</td>\n",
              "      <td>Start_of_Doris_bond_with_fans</td>\n",
              "      <td>Start_of_Doris_bond_with_fans_Clip1.mp4</td>\n",
              "      <td>Doris</td>\n",
              "    </tr>\n",
              "    <tr>\n",
              "      <th>10</th>\n",
              "      <td>11</td>\n",
              "      <td>2020-04-26</td>\n",
              "      <td>https://www.bilibili.com/video/BV15Z4y147cq</td>\n",
              "      <td>[0:53-1:09]</td>\n",
              "      <td>16</td>\n",
              "      <td></td>\n",
              "      <td></td>\n",
              "      <td>Clip11</td>\n",
              "      <td>[0:53-1:09]</td>\n",
              "      <td>0:53</td>\n",
              "      <td>1:09</td>\n",
              "      <td>00:00:53</td>\n",
              "      <td>00:01:09</td>\n",
              "      <td>00:00:16</td>\n",
              "      <td></td>\n",
              "      <td>_Clip1.mp4</td>\n",
              "      <td>Doris</td>\n",
              "    </tr>\n",
              "  </tbody>\n",
              "</table>\n",
              "</div>"
            ],
            "text/plain": [
              "   Clip number  ... sheet_name\n",
              "0            1  ...      Doris\n",
              "1            2  ...      Doris\n",
              "2            3  ...      Doris\n",
              "3            4  ...      Doris\n",
              "4            5  ...      Doris\n",
              "5            6  ...      Doris\n",
              "6            7  ...      Doris\n",
              "7            8  ...      Doris\n",
              "8            9  ...      Doris\n",
              "9           10  ...      Doris\n",
              "10          11  ...      Doris\n",
              "\n",
              "[11 rows x 17 columns]"
            ]
          },
          "metadata": {
            "tags": []
          },
          "execution_count": 22
        }
      ]
    },
    {
      "cell_type": "code",
      "metadata": {
        "id": "iFk71FndsaUs"
      },
      "source": [
        "# df_copy = df.copy()\n",
        "# df_copy[\"start_time\"] = df_copy[\"start_time\"].apply(lambda x: \"[\"+x)\n",
        "# df_copy[\"start_time_new\"] = df_copy[\"start_time_new\"].apply(lambda x: \"[\"+x)\n",
        "# df_copy[\"end_time\"] = df_copy[\"end_time\"].apply(lambda x: \"-\"+x+\"]\")\n",
        "# df_copy[\"end_time_new\"] = df_copy[\"end_time_new\"].apply(lambda x: \"-\"+x+\"]\")\n",
        "# df_copy[\"final_time\"] = df_copy[\"start_time_new\"] + df_copy[\"end_time_new\"]\n",
        "# df_copy[\"Timestamp\"] = df_copy[\"start_time\"] + df_copy[\"end_time\"]\n",
        "# df_copy[\"Filename\"] = df_copy[\"Filename\"].apply(lambda x: \"-c copy drive/My\\ Drive/\"+df.loc[0, \"sheet_name\"].split(\" \")[-1]+\"/Raw\\ Clips/\"+x+\".mkv\")\n",
        "# df_copy_grouped = df_copy.groupby([\"Filename\", \"Link\", \"folder\"])[[\"final_time\", \"Timestamp\"]].sum().reset_index()\n",
        "# df_copy_grouped.head(2)\n",
        "\n",
        "# df_copy_grouped[[\"Link\",\"final_time\",\"Filename\",\"Timestamp\",\"folder\"]].to_csv(df.loc[0, \"sheet_name\"].split(\" \")[-1]+\"_\"+str(interval)+\"secpad.csv\", index=False)"
      ],
      "execution_count": null,
      "outputs": []
    },
    {
      "cell_type": "markdown",
      "metadata": {
        "id": "vkhqGyVfr0GM"
      },
      "source": [
        "## Play Video"
      ]
    },
    {
      "cell_type": "code",
      "metadata": {
        "id": "pXAGCu8-APg9"
      },
      "source": [
        "# !ffprobe \"Graduation Ceremony - Wanna be your sunshine-hceZWCwcyBs.mp4\""
      ],
      "execution_count": null,
      "outputs": []
    },
    {
      "cell_type": "code",
      "metadata": {
        "id": "hghs-92HGI_l"
      },
      "source": [
        "# from IPython.display import HTML, YouTubeVideo\n",
        "# from base64 import b64encode\n",
        "\n",
        "# mp4 = open('Graduation Ceremony - Wanna be your sunshine-hceZWCwcyBs.mp4','rb').read()\n",
        "# data_url = 'data:video/mp4;base64,' + b64encode(mp4).decode()\n",
        "# HTML(\"\"\"\n",
        "# <video width=720 controls>\n",
        "#       <source src=\"%s\" type=\"video/mp4\">\n",
        "# </video>\n",
        "# \"\"\" % data_url)"
      ],
      "execution_count": null,
      "outputs": []
    },
    {
      "cell_type": "markdown",
      "metadata": {
        "id": "cXyVKq1lBfHb"
      },
      "source": [
        "## Move Video"
      ]
    },
    {
      "cell_type": "code",
      "metadata": {
        "colab": {
          "base_uri": "https://localhost:8080/",
          "height": 53
        },
        "id": "mAlQWG0AB4pV",
        "outputId": "0c1002ec-3381-4d38-e349-3214ea2b2554"
      },
      "source": [
        "# import os\n",
        "# master_clips_folder = os.path.join(os.getcwd(), \"drive\", \"My Drive\", \"Hololive Resistance Youtube\", \"Collab\", \"2020 Year HoloRewind (w  Aonahara + HLR)\", \"Master Assets\")\n",
        "# miyabi_folder = os.path.join(master_clips_folder, \"Stars Gen 1\", \"Miyabi\", \"Raw Clips\")\n",
        "# miyabi_folder"
      ],
      "execution_count": null,
      "outputs": [
        {
          "output_type": "execute_result",
          "data": {
            "application/vnd.google.colaboratory.intrinsic+json": {
              "type": "string"
            },
            "text/plain": [
              "'/content/drive/My Drive/Hololive Resistance Youtube/Collab/2020 Year HoloRewind (w  Aonahara + HLR)/Master Assets/Stars Gen 1/Miyabi/Raw Clips'"
            ]
          },
          "metadata": {
            "tags": []
          },
          "execution_count": 92
        }
      ]
    },
    {
      "cell_type": "code",
      "metadata": {
        "id": "52wIBN7523iY"
      },
      "source": [
        "# !gsutil cp -r /content/sample/ /content/drive/My\\ Drive/Hololive\\ Resistance\\ Youtube/Collab/2020\\ Year\\ HoloRewind\\ \\(w\\ \\ Aonahara\\ +\\ HLR\\)/Master\\ Assets/Stars\\ Gen\\ 1/Miyabi/Raw\\ Clips"
      ],
      "execution_count": null,
      "outputs": []
    },
    {
      "cell_type": "markdown",
      "metadata": {
        "id": "VTrpKd2Qx8jF"
      },
      "source": [
        "## Create Black Screen Videos"
      ]
    },
    {
      "cell_type": "code",
      "metadata": {
        "id": "Sdox4sRzx75c"
      },
      "source": [
        "# multipleclips_folders_list = [folder for folder in df[\"folder\"].unique() if len(os.listdir(os.path.join(root_folder, folder))) > 1]\n",
        "# multipleclips_folders_output = list(df[df['folder'].isin(multipleclips_folders_list)][\"Filename\"].unique())\n",
        "# singleclips_folders_list = [folder for folder in df[\"folder\"].unique() if len(os.listdir(os.path.join(root_folder, folder))) == 1]\n",
        "# singleclips_folders_output = list(df[df['folder'].isin(singleclips_folders_list)][\"Filename\"].unique())\n",
        "# black_files_list = [os.path.join(root_folder, folder, file).replace(\".mp4\",\"andblack.mp4\").replace(\" \", \"\\ \") for folder in df[\"folder\"].unique() for file in os.listdir(os.path.join(root_folder, folder)) if len(os.listdir(os.path.join(root_folder, folder))) > 0]\n",
        "# files_list = [file.replace(\" \", \"\\ \") for folder in df[\"folder\"].unique() for file in os.listdir(os.path.join(root_folder, folder)) if len(os.listdir(os.path.join(root_folder, folder))) > 0]\n",
        "# files_list"
      ],
      "execution_count": null,
      "outputs": []
    },
    {
      "cell_type": "code",
      "metadata": {
        "id": "li8WWPAxDsGX"
      },
      "source": [
        "# for file in files_list[:6]:\n",
        "#     os.environ[\"FILE\"] = file\n",
        "#     os.environ[\"NEW_FILE\"] = file.replace(\".mp4\", \"_new.mp4\")\n",
        "#     !ffmpeg -i \"$FILE\" \"$NEW_FILE\""
      ],
      "execution_count": null,
      "outputs": []
    },
    {
      "cell_type": "code",
      "metadata": {
        "id": "HvqqOTeEyYN4"
      },
      "source": [
        "# for file in black_files_list[:6]:\n",
        "#     # !ffmpeg -f lavfi -i color=black:s=1920x1080:r=24000/1001 -f lavfi -i anullsrc -ar 44100 -ac 128 -t 3 $file\n",
        "#     !ffmpeg -y -f lavfi -i color=c=black:s=1920x1080:d=3 -f lavfi -i aevalsrc=0:c=2:d=3 $file\n",
        "#     # !ffmpeg -f lavfi -i color=c=black:s=640x480:d=2 -f lavfi -i aevalsrc=0:c=2:d=2 black_screen_video.mp4"
      ],
      "execution_count": null,
      "outputs": []
    },
    {
      "cell_type": "markdown",
      "metadata": {
        "id": "v1qY8ArZNpiT"
      },
      "source": [
        "## Merge Videos"
      ]
    },
    {
      "cell_type": "code",
      "metadata": {
        "id": "yGalzUKDOhRl"
      },
      "source": [
        "# %cd /content/drive/My\\ Drive/Master\\ Assets/Stars\\ Gen\\ 1/Miyabi/Raw\\ Clips/old/Miyabis_is_a_human\n",
        "# !pwd\n",
        "# # !for f in ./*.mp4; do echo \"file '$f'\" >> mylist.txt; done\n",
        "# # !ffmpeg -y -f concat -safe 0 -i mylist.txt Clip16.mkv\n",
        "# !ffmpeg -i Clip13.mp4 -codec copy Clip13.mkv\n",
        "\n",
        "# # for folder in multipleclips_folders_list[:1]:\n",
        "# #     os.environ[\"FOLDER\"] = folder\n",
        "# #     %cd /content/drive/My\\ Drive/Master\\ Assets/Stars\\ Gen\\ 1/Miyabi/Raw\\ Clips/$folder\n",
        "# #     !pwd\n",
        "# #     !for f in ./*.mp4; do echo \"file '$f'\" >> mylist.txt; done"
      ],
      "execution_count": null,
      "outputs": []
    },
    {
      "cell_type": "code",
      "metadata": {
        "id": "ZASgikyo5A5V"
      },
      "source": [
        "# for folder, file in zip(multipleclips_folders_list[:1], multipleclips_folders_output[:1]):\n",
        "#     os.environ[\"FILE\"] = file+\".mkv\"\n",
        "#     os.environ[\"FOLDER\"] = folder\n",
        "#     %cd /content/drive/My\\ Drive/Master\\ Assets/Stars\\ Gen\\ 1/Miyabi/Raw\\ Clips/$folder\n",
        "#     !pwd\n",
        "#     !ffmpeg -y -f concat -safe 0 -i mylist.txt \"$FILE\""
      ],
      "execution_count": null,
      "outputs": []
    },
    {
      "cell_type": "markdown",
      "metadata": {
        "id": "u8j6iUkG_Slw"
      },
      "source": [
        "### Extra code"
      ]
    },
    {
      "cell_type": "code",
      "metadata": {
        "id": "l-eGfHd64JWq"
      },
      "source": [
        "# !ffmpeg -f lavfi -i color=size=1280x720:rate=1187:color=black -f lavfi -i anullsrc=channel_layout=stereo:sample_rate=48000 -t 3 Is_that_YAGOO_Clip1_black.mp4"
      ],
      "execution_count": null,
      "outputs": []
    },
    {
      "cell_type": "code",
      "metadata": {
        "id": "ONQ0cJ3IPr5q"
      },
      "source": [
        "# !ffmpeg -f concat -safe 0 -i mylist.txt -c copy clip1.mkv"
      ],
      "execution_count": null,
      "outputs": []
    },
    {
      "cell_type": "code",
      "metadata": {
        "id": "w3D1eRQGaALZ"
      },
      "source": [
        "# !ffprobe Is_that_YAGOO_Clip1_black.mp4"
      ],
      "execution_count": null,
      "outputs": []
    },
    {
      "cell_type": "code",
      "metadata": {
        "id": "PyiDXAmqLUao"
      },
      "source": [
        "# !ffprobe Is_that_YAGOO_Clip1.mp4"
      ],
      "execution_count": null,
      "outputs": []
    },
    {
      "cell_type": "code",
      "metadata": {
        "id": "iMYJ0wjckzyb"
      },
      "source": [
        "# !curl https://temp-clipping-tool.vercel.app/api/colab/eyJ1cmwiOiJodHRwczovL3d3dy55b3V0dWJlLmNvbS93YXRjaD92PS14UjVBbW10VXI0IiwidGltZXN0YW1wcyI6IlsxMToyNy0xMTo0MF0sWzExOjUxLTExOjU1XSIsIm91dHB1dCI6Ii1jOnYgbGlieDI2NCAtYzphIGFhYyAtcGl4X2ZtdCB5dXY0MjBwIG91dHB1dC5ta3YifQ%3D%3D | bash"
      ],
      "execution_count": null,
      "outputs": []
    },
    {
      "cell_type": "code",
      "metadata": {
        "id": "p_j68-vSpmNc"
      },
      "source": [
        "# !curl https://temp-clipping-tool.vercel.app/api/colab/eyJ1cmwiOiJodHRwczovL3d3dy55b3V0dWJlLmNvbS93YXRjaD92PS1OelEwdmdHY1JjIiwidGltZXN0YW1wcyI6IlsyOjE5LTI6MzNdIiwib3V0cHV0IjoiLWM6diBsaWJ4MjY0IC1jOmEgYWFjIC1waXhfZm10IHl1djQyMHAgY2xpcDYubWt2In0%3D | bash"
      ],
      "execution_count": null,
      "outputs": []
    }
  ]
}